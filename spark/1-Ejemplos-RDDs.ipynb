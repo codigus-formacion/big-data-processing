{
 "cells": [
  {
   "cell_type": "markdown",
   "id": "e85b024c",
   "metadata": {},
   "source": [
    "# RDDs con PySpark\n",
    "\n",
    "En este notebook aprenderemos cómo crear una sesión de Spark (SparkSession) y cómo crear RDDs a partir de colecciones de Python y de ficheros externos."
   ]
  },
  {
   "cell_type": "markdown",
   "id": "7a1aa203",
   "metadata": {},
   "source": [
    "En primer lugar, debemos asegurarnos de que Java está instalado. Configuramos la variable `JAVA_HOME`, que indica a Spark dónde encontrar la JVM contra la que ejecutar su código Scala."
   ]
  },
  {
   "cell_type": "code",
   "execution_count": 2,
   "id": "9344deeb",
   "metadata": {},
   "outputs": [
    {
     "data": {
      "text/plain": [
       "'/home/maes/.sdkman/candidates/java/current'"
      ]
     },
     "execution_count": 2,
     "metadata": {},
     "output_type": "execute_result"
    }
   ],
   "source": [
    "import os\n",
    "\n",
    "# En nuestro ordenador personal, si no esta definida la variable JAVA_HOME, deberemos indicarla\n",
    "# Para sistemas basados en Debian/Ubuntu, si tenemos instalada la version 17 de Java, seria:\n",
    "# os.environ[\"JAVA_HOME\"] = \"/usr/lib/jvm/java-17-openjdk-amd64\"\n",
    "# En Windows, la ruta puede ser algo como: \"C:\\\\Program Files\\\\Java\\\\jdk-17\"\n",
    "# os.environ[\"JAVA_HOME\"] = \"C:\\\\Program Files\\\\Java\\\\jdk-17\"\n",
    "# Si ya esta definida, no es necesario hacer nada\n",
    "\n",
    "os.environ[\"JAVA_HOME\"]"
   ]
  },
  {
   "cell_type": "markdown",
   "id": "6a7a780e",
   "metadata": {},
   "source": [
    "A continuación, podemos importar PySpark y comprobar su versión para asegurarnos de que está correctamente instalado."
   ]
  },
  {
   "cell_type": "code",
   "execution_count": 3,
   "id": "7d05c8f3",
   "metadata": {},
   "outputs": [
    {
     "data": {
      "text/plain": [
       "'4.0.1'"
      ]
     },
     "execution_count": 3,
     "metadata": {},
     "output_type": "execute_result"
    }
   ],
   "source": [
    "import pyspark\n",
    "\n",
    "pyspark.__version__"
   ]
  },
  {
   "cell_type": "markdown",
   "id": "9db02c8e",
   "metadata": {},
   "source": [
    "Ya estamos listos para crear una sesión de Spark y empezar a trabajar con RDDs."
   ]
  },
  {
   "cell_type": "code",
   "execution_count": 4,
   "id": "602ee4cd",
   "metadata": {},
   "outputs": [
    {
     "name": "stderr",
     "output_type": "stream",
     "text": [
      "WARNING: Using incubator modules: jdk.incubator.vector\n",
      "Using Spark's default log4j profile: org/apache/spark/log4j2-defaults.properties\n",
      "25/10/08 18:00:10 WARN Utils: Your hostname, maes, resolves to a loopback address: 127.0.1.1; using 10.0.68.169 instead (on interface wlp0s20f3)\n",
      "25/10/08 18:00:10 WARN Utils: Set SPARK_LOCAL_IP if you need to bind to another address\n",
      "Using Spark's default log4j profile: org/apache/spark/log4j2-defaults.properties\n",
      "Setting default log level to \"WARN\".\n",
      "To adjust logging level use sc.setLogLevel(newLevel). For SparkR, use setLogLevel(newLevel).\n",
      "25/10/08 18:00:11 WARN NativeCodeLoader: Unable to load native-hadoop library for your platform... using builtin-java classes where applicable\n",
      "25/10/08 18:00:12 WARN Utils: Service 'SparkUI' could not bind on port 4040. Attempting port 4041.\n",
      "25/10/08 18:00:12 WARN Utils: Service 'SparkUI' could not bind on port 4041. Attempting port 4042.\n"
     ]
    }
   ],
   "source": [
    "from pyspark.sql import SparkSession\n",
    "\n",
    "# Crear sesión de Spark\n",
    "spark = SparkSession.builder.appName(\"Analisis Deportivo con Spark\").getOrCreate()"
   ]
  },
  {
   "cell_type": "markdown",
   "id": "660479a8",
   "metadata": {},
   "source": [
    "Una vez creado un objeto `SparkSession`, podemos inspeccionarlo. Ahora mismo lo estamos utilizando en modo local, con todos los núcleos de nuestro ordenador -> [*]."
   ]
  },
  {
   "cell_type": "code",
   "execution_count": 5,
   "id": "58d11597",
   "metadata": {},
   "outputs": [
    {
     "data": {
      "text/html": [
       "\n",
       "            <div>\n",
       "                <p><b>SparkSession - in-memory</b></p>\n",
       "                \n",
       "        <div>\n",
       "            <p><b>SparkContext</b></p>\n",
       "\n",
       "            <p><a href=\"http://10.0.68.169:4042\">Spark UI</a></p>\n",
       "\n",
       "            <dl>\n",
       "              <dt>Version</dt>\n",
       "                <dd><code>v4.0.1</code></dd>\n",
       "              <dt>Master</dt>\n",
       "                <dd><code>local[*]</code></dd>\n",
       "              <dt>AppName</dt>\n",
       "                <dd><code>Analisis Deportivo con Spark</code></dd>\n",
       "            </dl>\n",
       "        </div>\n",
       "        \n",
       "            </div>\n",
       "        "
      ],
      "text/plain": [
       "<pyspark.sql.session.SparkSession at 0x754211e88130>"
      ]
     },
     "execution_count": 5,
     "metadata": {},
     "output_type": "execute_result"
    }
   ],
   "source": [
    "spark"
   ]
  },
  {
   "cell_type": "markdown",
   "id": "62ccd26c",
   "metadata": {},
   "source": [
    "### Ejemplo 1\n",
    "\n",
    "Vamos a crear un RDD a partir de una colección de Python. En este caso, una lista con información sobre jugadores y su distancia recorrida en un partido de fútbol."
   ]
  },
  {
   "cell_type": "code",
   "execution_count": null,
   "id": "e3643e6e",
   "metadata": {},
   "outputs": [
    {
     "name": "stderr",
     "output_type": "stream",
     "text": [
      "                                                                                \r"
     ]
    },
    {
     "data": {
      "text/plain": [
       "[('Jugador2', 9.8), ('Jugador1', 21.2)]"
      ]
     },
     "execution_count": 6,
     "metadata": {},
     "output_type": "execute_result"
    }
   ],
   "source": [
    "# Datos simulados: (jugador, distancia recorrida en km)\n",
    "datos = [(\"Jugador1\", 10.2), (\"Jugador2\", 9.8), (\"Jugador1\", 11.0)]\n",
    "\n",
    "# Creamos un RDD a partir de la lista\n",
    "rdd = spark.sparkContext.parallelize(datos)\n",
    "\n",
    "# Distancia total por jugador\n",
    "distancia_total = rdd.reduceByKey(lambda a, b: a + b)\n",
    "distancia_total.collect()"
   ]
  },
  {
   "cell_type": "markdown",
   "id": "b9ca8c7e",
   "metadata": {},
   "source": [
    "Finalmente, podemos cerrar la sesión de Spark cuando ya no la necesitemos. Si lo hacemos, habrá que ejecutar todo el notebook de nuevo para volver a crearla."
   ]
  },
  {
   "cell_type": "code",
   "execution_count": 7,
   "id": "5de5f437",
   "metadata": {},
   "outputs": [],
   "source": [
    "spark.stop()"
   ]
  }
 ],
 "metadata": {
  "kernelspec": {
   "display_name": "spark",
   "language": "python",
   "name": "python3"
  },
  "language_info": {
   "codemirror_mode": {
    "name": "ipython",
    "version": 3
   },
   "file_extension": ".py",
   "mimetype": "text/x-python",
   "name": "python",
   "nbconvert_exporter": "python",
   "pygments_lexer": "ipython3",
   "version": "3.10.12"
  }
 },
 "nbformat": 4,
 "nbformat_minor": 5
}
