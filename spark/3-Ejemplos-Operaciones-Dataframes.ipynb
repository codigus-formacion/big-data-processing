{
 "cells": [
  {
   "cell_type": "markdown",
   "id": "5ef87776",
   "metadata": {},
   "source": [
    "\n",
    "# ⚽ Operaciones con DataFrames en Apache Spark\n",
    "\n",
    "Este notebook contiene ejemplos prácticos de las operaciones más comunes que se pueden realizar con DataFrames en Spark, utilizando datos simulados del ámbito deportivo.\n"
   ]
  },
  {
   "cell_type": "code",
   "execution_count": null,
   "id": "79363351",
   "metadata": {},
   "outputs": [
    {
     "name": "stderr",
     "output_type": "stream",
     "text": [
      "WARNING: Using incubator modules: jdk.incubator.vector\n",
      "Using Spark's default log4j profile: org/apache/spark/log4j2-defaults.properties\n",
      "25/10/13 21:01:12 WARN Utils: Your hostname, maes-GE72-7RE, resolves to a loopback address: 127.0.1.1; using 192.168.1.58 instead (on interface enp3s0)\n",
      "25/10/13 21:01:12 WARN Utils: Set SPARK_LOCAL_IP if you need to bind to another address\n",
      "Using Spark's default log4j profile: org/apache/spark/log4j2-defaults.properties\n",
      "Setting default log level to \"WARN\".\n",
      "To adjust logging level use sc.setLogLevel(newLevel). For SparkR, use setLogLevel(newLevel).\n",
      "25/10/13 21:01:13 WARN NativeCodeLoader: Unable to load native-hadoop library for your platform... using builtin-java classes where applicable\n",
      "25/10/13 21:01:13 WARN Utils: Service 'SparkUI' could not bind on port 4040. Attempting port 4041.\n"
     ]
    }
   ],
   "source": [
    "\n",
    "from pyspark.sql import SparkSession\n",
    "\n",
    "spark = SparkSession.builder.appName(\"Operaciones con DataFrames\").getOrCreate()\n"
   ]
  },
  {
   "cell_type": "code",
   "execution_count": 4,
   "id": "fc25b0d7",
   "metadata": {},
   "outputs": [
    {
     "name": "stderr",
     "output_type": "stream",
     "text": [
      "                                                                                \r"
     ]
    },
    {
     "name": "stdout",
     "output_type": "stream",
     "text": [
      "+-------+-------------+---------+-----+-----+----------------+-------+\n",
      "|Jugador|       Equipo|Velocidad|Goles|Pases|PasesCompletados|Minutos|\n",
      "+-------+-------------+---------+-----+-----+----------------+-------+\n",
      "|  Pedri| FC Barcelona|     32.5|    1|   85|              78|     90|\n",
      "| Modric|  Real Madrid|     30.1|    2|   95|              88|     87|\n",
      "|  Kroos|  Real Madrid|     29.8|    1|  102|              92|     90|\n",
      "|   Gavi| FC Barcelona|     31.2|    0|   76|              65|     80|\n",
      "|   Kubo|Real Sociedad|     33.0|    3|   88|              70|     85|\n",
      "|   Isco|   Real Betis|     28.7|    2|   90|              75|     83|\n",
      "+-------+-------------+---------+-----+-----+----------------+-------+\n",
      "\n"
     ]
    }
   ],
   "source": [
    "\n",
    "datos = [\n",
    "    (\"Pedri\", \"FC Barcelona\", 32.5, 1, 85, 78, 90),\n",
    "    (\"Modric\", \"Real Madrid\", 30.1, 2, 95, 88, 87),\n",
    "    (\"Kroos\", \"Real Madrid\", 29.8, 1, 102, 92, 90),\n",
    "    (\"Gavi\", \"FC Barcelona\", 31.2, 0, 76, 65, 80),\n",
    "    (\"Kubo\", \"Real Sociedad\", 33.0, 3, 88, 70, 85),\n",
    "    (\"Isco\", \"Real Betis\", 28.7, 2, 90, 75, 83)\n",
    "]\n",
    "\n",
    "columnas = [\"Jugador\", \"Equipo\", \"Velocidad\", \"Goles\", \"Pases\", \"PasesCompletados\", \"Minutos\"]\n",
    "\n",
    "df = spark.createDataFrame(datos, columnas)\n",
    "df.show()\n"
   ]
  },
  {
   "cell_type": "markdown",
   "id": "d4aa2aca",
   "metadata": {},
   "source": [
    "## 🔍 Selección y filtrado"
   ]
  },
  {
   "cell_type": "code",
   "execution_count": null,
   "id": "f808c444",
   "metadata": {},
   "outputs": [
    {
     "name": "stdout",
     "output_type": "stream",
     "text": [
      "+-------+-----+-------------+\n",
      "|Jugador|Goles|       Equipo|\n",
      "+-------+-----+-------------+\n",
      "|  Pedri|    1| FC Barcelona|\n",
      "| Modric|    2|  Real Madrid|\n",
      "|  Kroos|    1|  Real Madrid|\n",
      "|   Gavi|    0| FC Barcelona|\n",
      "|   Kubo|    3|Real Sociedad|\n",
      "|   Isco|    2|   Real Betis|\n",
      "+-------+-----+-------------+\n",
      "\n"
     ]
    }
   ],
   "source": [
    "# Seleccionar columnas específicas\n",
    "df.select(\"Jugador\", \"Goles\", \"Equipo\").show()"
   ]
  },
  {
   "cell_type": "code",
   "execution_count": 6,
   "id": "276d9037",
   "metadata": {},
   "outputs": [
    {
     "name": "stdout",
     "output_type": "stream",
     "text": [
      "+-------+-------------+---------+-----+-----+----------------+-------+\n",
      "|Jugador|       Equipo|Velocidad|Goles|Pases|PasesCompletados|Minutos|\n",
      "+-------+-------------+---------+-----+-----+----------------+-------+\n",
      "| Modric|  Real Madrid|     30.1|    2|   95|              88|     87|\n",
      "|   Kubo|Real Sociedad|     33.0|    3|   88|              70|     85|\n",
      "|   Isco|   Real Betis|     28.7|    2|   90|              75|     83|\n",
      "+-------+-------------+---------+-----+-----+----------------+-------+\n",
      "\n"
     ]
    }
   ],
   "source": [
    "# Filtrar jugadores con más de 1 gol\n",
    "df.filter(df.Goles > 1).show()"
   ]
  },
  {
   "cell_type": "code",
   "execution_count": null,
   "id": "2b051c88",
   "metadata": {},
   "outputs": [
    {
     "name": "stdout",
     "output_type": "stream",
     "text": [
      "+-------+-------------+-----+-----+----------------+-------+\n",
      "|Jugador|       Equipo|Goles|Pases|PasesCompletados|Minutos|\n",
      "+-------+-------------+-----+-----+----------------+-------+\n",
      "|  Pedri| FC Barcelona|    1|   85|              78|     90|\n",
      "| Modric|  Real Madrid|    2|   95|              88|     87|\n",
      "|  Kroos|  Real Madrid|    1|  102|              92|     90|\n",
      "|   Gavi| FC Barcelona|    0|   76|              65|     80|\n",
      "|   Kubo|Real Sociedad|    3|   88|              70|     85|\n",
      "|   Isco|   Real Betis|    2|   90|              75|     83|\n",
      "+-------+-------------+-----+-----+----------------+-------+\n",
      "\n"
     ]
    }
   ],
   "source": [
    "# Eliminar columna de velocidad.\n",
    "df.drop(\"Velocidad\").show()"
   ]
  },
  {
   "cell_type": "code",
   "execution_count": 8,
   "id": "e7c3ac6f",
   "metadata": {},
   "outputs": [
    {
     "name": "stdout",
     "output_type": "stream",
     "text": [
      "+-------+-------------+---------+-----+-----+----------------+-------+\n",
      "|Jugador|       Equipo|Velocidad|Goles|Pases|PasesCompletados|Minutos|\n",
      "+-------+-------------+---------+-----+-----+----------------+-------+\n",
      "|  Pedri| FC Barcelona|     32.5|    1|   85|              78|     90|\n",
      "| Modric|  Real Madrid|     30.1|    2|   95|              88|     87|\n",
      "|  Kroos|  Real Madrid|     29.8|    1|  102|              92|     90|\n",
      "|   Gavi| FC Barcelona|     31.2|    0|   76|              65|     80|\n",
      "|   Kubo|Real Sociedad|     33.0|    3|   88|              70|     85|\n",
      "|   Isco|   Real Betis|     28.7|    2|   90|              75|     83|\n",
      "+-------+-------------+---------+-----+-----+----------------+-------+\n",
      "\n"
     ]
    }
   ],
   "source": [
    "# Eliminar duplicados (simulando duplicación)\n",
    "df.union(df).distinct().show()"
   ]
  },
  {
   "cell_type": "markdown",
   "id": "d349bdef",
   "metadata": {},
   "source": [
    "## 🔄 Transformación de columnas"
   ]
  },
  {
   "cell_type": "code",
   "execution_count": 9,
   "id": "ed2aee33",
   "metadata": {},
   "outputs": [
    {
     "name": "stdout",
     "output_type": "stream",
     "text": [
      "+-------+-------------+---------+-----+-----+----------------+-------+-----------------+\n",
      "|Jugador|       Equipo|Velocidad|Goles|Pases|PasesCompletados|Minutos|    PrecisionPase|\n",
      "+-------+-------------+---------+-----+-----+----------------+-------+-----------------+\n",
      "|  Pedri| FC Barcelona|     32.5|    1|   85|              78|     90|91.76470588235294|\n",
      "| Modric|  Real Madrid|     30.1|    2|   95|              88|     87|92.63157894736842|\n",
      "|  Kroos|  Real Madrid|     29.8|    1|  102|              92|     90|90.19607843137256|\n",
      "|   Gavi| FC Barcelona|     31.2|    0|   76|              65|     80|85.52631578947368|\n",
      "|   Kubo|Real Sociedad|     33.0|    3|   88|              70|     85|79.54545454545455|\n",
      "|   Isco|   Real Betis|     28.7|    2|   90|              75|     83|83.33333333333334|\n",
      "+-------+-------------+---------+-----+-----+----------------+-------+-----------------+\n",
      "\n"
     ]
    }
   ],
   "source": [
    "# Crear columna de precisión de pase (%)\n",
    "df.withColumn(\"PrecisionPase\", (col(\"PasesCompletados\") / col(\"Pases\") * 100)).show()"
   ]
  },
  {
   "cell_type": "code",
   "execution_count": 10,
   "id": "594ade11",
   "metadata": {},
   "outputs": [
    {
     "name": "stdout",
     "output_type": "stream",
     "text": [
      "+-------+-------------+---------+-----+-----+----------------+--------------+\n",
      "|Jugador|       Equipo|Velocidad|Goles|Pases|PasesCompletados|MinutosJugados|\n",
      "+-------+-------------+---------+-----+-----+----------------+--------------+\n",
      "|  Pedri| FC Barcelona|     32.5|    1|   85|              78|            90|\n",
      "| Modric|  Real Madrid|     30.1|    2|   95|              88|            87|\n",
      "|  Kroos|  Real Madrid|     29.8|    1|  102|              92|            90|\n",
      "|   Gavi| FC Barcelona|     31.2|    0|   76|              65|            80|\n",
      "|   Kubo|Real Sociedad|     33.0|    3|   88|              70|            85|\n",
      "|   Isco|   Real Betis|     28.7|    2|   90|              75|            83|\n",
      "+-------+-------------+---------+-----+-----+----------------+--------------+\n",
      "\n"
     ]
    }
   ],
   "source": [
    "# Renombrar columna de minutos\n",
    "df.withColumnRenamed(\"Minutos\", \"MinutosJugados\").show()"
   ]
  },
  {
   "cell_type": "code",
   "execution_count": 11,
   "id": "75a9db78",
   "metadata": {},
   "outputs": [
    {
     "name": "stdout",
     "output_type": "stream",
     "text": [
      "root\n",
      " |-- Jugador: string (nullable = true)\n",
      " |-- Equipo: string (nullable = true)\n",
      " |-- Velocidad: double (nullable = true)\n",
      " |-- Goles: long (nullable = true)\n",
      " |-- Pases: long (nullable = true)\n",
      " |-- PasesCompletados: long (nullable = true)\n",
      " |-- Minutos: long (nullable = true)\n",
      " |-- Goles_str: string (nullable = true)\n",
      "\n"
     ]
    }
   ],
   "source": [
    "# Cambiar tipo de dato de goles a string\n",
    "df.withColumn(\"Goles_str\", col(\"Goles\").cast(\"string\")).printSchema()"
   ]
  },
  {
   "cell_type": "markdown",
   "id": "bf5f0409",
   "metadata": {},
   "source": [
    "## 📊 Agregación y agrupamiento\n",
    "\n",
    "La función `agg()` agrega los resultados agrupados por la función `groupBy()`. Esta función recibe como parámetros una o varias funciones de agregación que resultarán en nuevas columnas."
   ]
  },
  {
   "cell_type": "code",
   "execution_count": null,
   "id": "3bdb5b18",
   "metadata": {},
   "outputs": [
    {
     "name": "stdout",
     "output_type": "stream",
     "text": [
      "+-------------+-------------+----------+------------+\n",
      "|       Equipo|PromedioGoles|TotalPases|MaxVelocidad|\n",
      "+-------------+-------------+----------+------------+\n",
      "| FC Barcelona|          0.5|       161|        32.5|\n",
      "|  Real Madrid|          1.5|       197|        30.1|\n",
      "|Real Sociedad|          3.0|        88|        33.0|\n",
      "|   Real Betis|          2.0|        90|        28.7|\n",
      "+-------------+-------------+----------+------------+\n",
      "\n"
     ]
    }
   ],
   "source": [
    "from pyspark.sql.functions import avg, sum, count, min, max, col\n",
    "\n",
    "df.groupBy(\"Equipo\").agg(\n",
    "    avg(\"Goles\").alias(\"PromedioGoles\"),\n",
    "    sum(\"Pases\").alias(\"TotalPases\"),\n",
    "    max(\"Velocidad\").alias(\"MaxVelocidad\")\n",
    ").show()\n"
   ]
  },
  {
   "cell_type": "markdown",
   "id": "ac6a13af",
   "metadata": {},
   "source": [
    "## 🔗 Combinación de DataFrames"
   ]
  },
  {
   "cell_type": "code",
   "execution_count": 17,
   "id": "bca03e71",
   "metadata": {},
   "outputs": [],
   "source": [
    "\n",
    "# Crear otro DataFrame con nuevos jugadores\n",
    "datos_extra = [\n",
    "    (\"Bellingham\", \"Real Madrid\", 31.5, 4, 80, 70, 90),\n",
    "    (\"Ferran\", \"FC Barcelona\", 30.8, 2, 65, 50, 75),\n",
    "    (\"Isco\", \"Real Betis\", 28.7, 2, 90, 75, 83)\n",
    "]\n",
    "df2 = spark.createDataFrame(datos_extra, columnas)"
   ]
  },
  {
   "cell_type": "code",
   "execution_count": 18,
   "id": "37cb9209",
   "metadata": {},
   "outputs": [
    {
     "name": "stderr",
     "output_type": "stream",
     "text": [
      "                                                                                \r"
     ]
    },
    {
     "name": "stdout",
     "output_type": "stream",
     "text": [
      "+----------+-------------+---------+-----+-----+----------------+-------+\n",
      "|   Jugador|       Equipo|Velocidad|Goles|Pases|PasesCompletados|Minutos|\n",
      "+----------+-------------+---------+-----+-----+----------------+-------+\n",
      "|     Pedri| FC Barcelona|     32.5|    1|   85|              78|     90|\n",
      "|    Modric|  Real Madrid|     30.1|    2|   95|              88|     87|\n",
      "|     Kroos|  Real Madrid|     29.8|    1|  102|              92|     90|\n",
      "|      Gavi| FC Barcelona|     31.2|    0|   76|              65|     80|\n",
      "|      Kubo|Real Sociedad|     33.0|    3|   88|              70|     85|\n",
      "|      Isco|   Real Betis|     28.7|    2|   90|              75|     83|\n",
      "|Bellingham|  Real Madrid|     31.5|    4|   80|              70|     90|\n",
      "|    Ferran| FC Barcelona|     30.8|    2|   65|              50|     75|\n",
      "|      Isco|   Real Betis|     28.7|    2|   90|              75|     83|\n",
      "+----------+-------------+---------+-----+-----+----------------+-------+\n",
      "\n"
     ]
    }
   ],
   "source": [
    "# Unión\n",
    "df.union(df2).show()"
   ]
  },
  {
   "cell_type": "code",
   "execution_count": 19,
   "id": "094dcab0",
   "metadata": {},
   "outputs": [
    {
     "name": "stderr",
     "output_type": "stream",
     "text": [
      "[Stage 36:==================================================>       (7 + 1) / 8]\r"
     ]
    },
    {
     "name": "stdout",
     "output_type": "stream",
     "text": [
      "+-------+----------+---------+-----+-----+----------------+-------+\n",
      "|Jugador|    Equipo|Velocidad|Goles|Pases|PasesCompletados|Minutos|\n",
      "+-------+----------+---------+-----+-----+----------------+-------+\n",
      "|   Isco|Real Betis|     28.7|    2|   90|              75|     83|\n",
      "+-------+----------+---------+-----+-----+----------------+-------+\n",
      "\n"
     ]
    },
    {
     "name": "stderr",
     "output_type": "stream",
     "text": [
      "                                                                                \r"
     ]
    }
   ],
   "source": [
    "# Intersección\n",
    "df.intersect(df2).show()"
   ]
  },
  {
   "cell_type": "code",
   "execution_count": 20,
   "id": "40df083f",
   "metadata": {},
   "outputs": [
    {
     "name": "stderr",
     "output_type": "stream",
     "text": [
      "                                                                                \r"
     ]
    },
    {
     "name": "stdout",
     "output_type": "stream",
     "text": [
      "+-------+-------------+---------+-----+-----+----------------+-------+\n",
      "|Jugador|       Equipo|Velocidad|Goles|Pases|PasesCompletados|Minutos|\n",
      "+-------+-------------+---------+-----+-----+----------------+-------+\n",
      "|   Gavi| FC Barcelona|     31.2|    0|   76|              65|     80|\n",
      "| Modric|  Real Madrid|     30.1|    2|   95|              88|     87|\n",
      "|  Pedri| FC Barcelona|     32.5|    1|   85|              78|     90|\n",
      "|   Kubo|Real Sociedad|     33.0|    3|   88|              70|     85|\n",
      "|  Kroos|  Real Madrid|     29.8|    1|  102|              92|     90|\n",
      "+-------+-------------+---------+-----+-----+----------------+-------+\n",
      "\n"
     ]
    }
   ],
   "source": [
    "# Diferencia\n",
    "df.subtract(df2).show()"
   ]
  },
  {
   "cell_type": "code",
   "execution_count": 25,
   "id": "d967ca6d",
   "metadata": {},
   "outputs": [
    {
     "name": "stderr",
     "output_type": "stream",
     "text": [
      "[Stage 66:==============>                                           (2 + 6) / 8]\r"
     ]
    },
    {
     "name": "stdout",
     "output_type": "stream",
     "text": [
      "+-------------+-------+---------+-----+-----+----------------+-------+----------+--------------+\n",
      "|       Equipo|Jugador|Velocidad|Goles|Pases|PasesCompletados|Minutos|Entrenador|GrupoChampions|\n",
      "+-------------+-------+---------+-----+-----+----------------+-------+----------+--------------+\n",
      "| FC Barcelona|  Pedri|     32.5|    1|   85|              78|     90|      Xavi|             1|\n",
      "| FC Barcelona|   Gavi|     31.2|    0|   76|              65|     80|      Xavi|             1|\n",
      "|   Real Betis|   Isco|     28.7|    2|   90|              75|     83|Pellegrini|             4|\n",
      "|  Real Madrid| Modric|     30.1|    2|   95|              88|     87| Ancelotti|             2|\n",
      "|  Real Madrid|  Kroos|     29.8|    1|  102|              92|     90| Ancelotti|             2|\n",
      "|Real Sociedad|   Kubo|     33.0|    3|   88|              70|     85|  Alguacil|             3|\n",
      "+-------------+-------+---------+-----+-----+----------------+-------+----------+--------------+\n",
      "\n"
     ]
    },
    {
     "name": "stderr",
     "output_type": "stream",
     "text": [
      "                                                                                \r"
     ]
    }
   ],
   "source": [
    "# DataFrame de equipos\n",
    "datos_equipos = [\n",
    "    (\"FC Barcelona\", \"Xavi\", 1),\n",
    "    (\"Real Madrid\", \"Ancelotti\", 2),\n",
    "    (\"Real Sociedad\", \"Alguacil\", 3),\n",
    "    (\"Real Betis\", \"Pellegrini\", 4)\n",
    "]\n",
    "columnas_equipos = [\"Equipo\", \"Entrenador\", \"GrupoChampions\"]\n",
    "df_equipos = spark.createDataFrame(datos_equipos, columnas_equipos)\n",
    "\n",
    "# Join por columna 'Equipo'\n",
    "df_completo = df.join(df_equipos, on=\"Equipo\", how=\"inner\")\n",
    "\n",
    "# Mostrar resultado\n",
    "df_completo.show()\n"
   ]
  },
  {
   "cell_type": "markdown",
   "id": "b64a869c",
   "metadata": {},
   "source": [
    "## 🧹 Orden y organización"
   ]
  },
  {
   "cell_type": "code",
   "execution_count": 22,
   "id": "14363167",
   "metadata": {},
   "outputs": [
    {
     "name": "stdout",
     "output_type": "stream",
     "text": [
      "+-------+-------------+---------+-----+-----+----------------+-------+\n",
      "|Jugador|       Equipo|Velocidad|Goles|Pases|PasesCompletados|Minutos|\n",
      "+-------+-------------+---------+-----+-----+----------------+-------+\n",
      "|   Kubo|Real Sociedad|     33.0|    3|   88|              70|     85|\n",
      "| Modric|  Real Madrid|     30.1|    2|   95|              88|     87|\n",
      "|   Isco|   Real Betis|     28.7|    2|   90|              75|     83|\n",
      "|  Kroos|  Real Madrid|     29.8|    1|  102|              92|     90|\n",
      "|  Pedri| FC Barcelona|     32.5|    1|   85|              78|     90|\n",
      "|   Gavi| FC Barcelona|     31.2|    0|   76|              65|     80|\n",
      "+-------+-------------+---------+-----+-----+----------------+-------+\n",
      "\n"
     ]
    }
   ],
   "source": [
    "# Ordenar por goles descendente\n",
    "df.orderBy(df.Goles.desc()).show()"
   ]
  },
  {
   "cell_type": "markdown",
   "id": "8db007e9",
   "metadata": {},
   "source": [
    "## 📁 Lectura y escritura"
   ]
  },
  {
   "cell_type": "code",
   "execution_count": null,
   "id": "b74f10b0",
   "metadata": {},
   "outputs": [
    {
     "name": "stdout",
     "output_type": "stream",
     "text": [
      "+-------+-------------+---------+-----+-----+----------------+-------+\n",
      "|Jugador|       Equipo|Velocidad|Goles|Pases|PasesCompletados|Minutos|\n",
      "+-------+-------------+---------+-----+-----+----------------+-------+\n",
      "|  Pedri| FC Barcelona|     32.5|    1|   85|              78|     90|\n",
      "|  Kroos|  Real Madrid|     29.8|    1|  102|              92|     90|\n",
      "| Modric|  Real Madrid|     30.1|    2|   95|              88|     87|\n",
      "|   Kubo|Real Sociedad|     33.0|    3|   88|              70|     85|\n",
      "|   Gavi| FC Barcelona|     31.2|    0|   76|              65|     80|\n",
      "|   Isco|   Real Betis|     28.7|    2|   90|              75|     83|\n",
      "+-------+-------------+---------+-----+-----+----------------+-------+\n",
      "\n"
     ]
    }
   ],
   "source": [
    "\n",
    "# Guardar los resultados (en disco o en un sistema de ficheros distribuido)\n",
    "df.write.csv(\"salida_jugadores\", header=True, mode=\"overwrite\")\n",
    "\n",
    "# Podemos agrupar los datos en una única partición usando coalesce(1)\n",
    "# df.coalesce(1).write.csv(\"salida_jugadores\", header=True, mode=\"overwrite\")\n",
    "\n",
    "# Leer CSV (requiere archivo existente)\n",
    "df_leido = spark.read.csv(\"salida_jugadores\", header=True, inferSchema=True)\n",
    "df_leido.show()"
   ]
  },
  {
   "cell_type": "markdown",
   "id": "a4e380c4",
   "metadata": {},
   "source": [
    "## 🧠 Consultas estructuradas\n",
    "\n",
    "Es posible realizar consultas utilizando lenguaje SQL sobre el conjunto de datos. Se crea una vista temporal llamada 'jugadores' que actuará como una tabla."
   ]
  },
  {
   "cell_type": "code",
   "execution_count": 26,
   "id": "b1196feb",
   "metadata": {},
   "outputs": [
    {
     "name": "stdout",
     "output_type": "stream",
     "text": [
      "+-------------+-------------+\n",
      "|       Equipo|PromedioGoles|\n",
      "+-------------+-------------+\n",
      "| FC Barcelona|          0.5|\n",
      "|  Real Madrid|          1.5|\n",
      "|Real Sociedad|          3.0|\n",
      "|   Real Betis|          2.0|\n",
      "+-------------+-------------+\n",
      "\n"
     ]
    }
   ],
   "source": [
    "\n",
    "df.createOrReplaceTempView(\"jugadores\")\n",
    "sql_df = spark.sql(\"SELECT Equipo, AVG(Goles) as PromedioGoles FROM jugadores GROUP BY Equipo\")\n",
    "sql_df.show()\n"
   ]
  },
  {
   "cell_type": "markdown",
   "id": "941d25d9",
   "metadata": {},
   "source": [
    "## 🔎 Exploración y depuración\n",
    "\n",
    "Tenemos a nuestra disposición diferentes funciones y propiedades para explorar en detalle los datos"
   ]
  },
  {
   "cell_type": "code",
   "execution_count": 28,
   "id": "b3238be0",
   "metadata": {},
   "outputs": [
    {
     "name": "stdout",
     "output_type": "stream",
     "text": [
      "+-------+-------------+---------+-----+-----+----------------+-------+\n",
      "|Jugador|       Equipo|Velocidad|Goles|Pases|PasesCompletados|Minutos|\n",
      "+-------+-------------+---------+-----+-----+----------------+-------+\n",
      "|  Pedri| FC Barcelona|     32.5|    1|   85|              78|     90|\n",
      "| Modric|  Real Madrid|     30.1|    2|   95|              88|     87|\n",
      "|  Kroos|  Real Madrid|     29.8|    1|  102|              92|     90|\n",
      "|   Gavi| FC Barcelona|     31.2|    0|   76|              65|     80|\n",
      "|   Kubo|Real Sociedad|     33.0|    3|   88|              70|     85|\n",
      "|   Isco|   Real Betis|     28.7|    2|   90|              75|     83|\n",
      "+-------+-------------+---------+-----+-----+----------------+-------+\n",
      "\n"
     ]
    }
   ],
   "source": [
    "# Muestra los datos como una tabla\n",
    "df.show()"
   ]
  },
  {
   "cell_type": "code",
   "execution_count": 30,
   "id": "21c40cb6",
   "metadata": {},
   "outputs": [
    {
     "name": "stdout",
     "output_type": "stream",
     "text": [
      "root\n",
      " |-- Jugador: string (nullable = true)\n",
      " |-- Equipo: string (nullable = true)\n",
      " |-- Velocidad: double (nullable = true)\n",
      " |-- Goles: long (nullable = true)\n",
      " |-- Pases: long (nullable = true)\n",
      " |-- PasesCompletados: long (nullable = true)\n",
      " |-- Minutos: long (nullable = true)\n",
      "\n"
     ]
    }
   ],
   "source": [
    "# Muestra el esquema de los datos (los tipos de las columnas)\n",
    "df.printSchema()"
   ]
  },
  {
   "cell_type": "code",
   "execution_count": 34,
   "id": "d72f690d",
   "metadata": {},
   "outputs": [
    {
     "name": "stdout",
     "output_type": "stream",
     "text": [
      "+-------+-------+-------------+------------------+------------------+-----------------+------------------+-----------------+\n",
      "|summary|Jugador|       Equipo|         Velocidad|             Goles|            Pases|  PasesCompletados|          Minutos|\n",
      "+-------+-------+-------------+------------------+------------------+-----------------+------------------+-----------------+\n",
      "|  count|      6|            6|                 6|                 6|                6|                 6|                6|\n",
      "|   mean|   NULL|         NULL|30.883333333333336|               1.5|89.33333333333333|              78.0|85.83333333333333|\n",
      "| stddev|   NULL|         NULL|1.6582118883504207|1.0488088481701516|8.846845012017937|10.373041983911952|3.970726214015098|\n",
      "|    min|   Gavi| FC Barcelona|              28.7|                 0|               76|                65|               80|\n",
      "|    max|  Pedri|Real Sociedad|              33.0|                 3|              102|                92|               90|\n",
      "+-------+-------+-------------+------------------+------------------+-----------------+------------------+-----------------+\n",
      "\n"
     ]
    }
   ],
   "source": [
    "# Muestra estadísticos de los datos\n",
    "df.describe().show()"
   ]
  },
  {
   "cell_type": "code",
   "execution_count": 38,
   "id": "a44aa8cd",
   "metadata": {},
   "outputs": [
    {
     "data": {
      "text/plain": [
       "['Jugador',\n",
       " 'Equipo',\n",
       " 'Velocidad',\n",
       " 'Goles',\n",
       " 'Pases',\n",
       " 'PasesCompletados',\n",
       " 'Minutos']"
      ]
     },
     "execution_count": 38,
     "metadata": {},
     "output_type": "execute_result"
    }
   ],
   "source": [
    "# Obtiene las columnas como una lista\n",
    "df.columns"
   ]
  },
  {
   "cell_type": "code",
   "execution_count": 40,
   "id": "34b394a8",
   "metadata": {},
   "outputs": [
    {
     "data": {
      "text/plain": [
       "[('Jugador', 'string'),\n",
       " ('Equipo', 'string'),\n",
       " ('Velocidad', 'double'),\n",
       " ('Goles', 'bigint'),\n",
       " ('Pases', 'bigint'),\n",
       " ('PasesCompletados', 'bigint'),\n",
       " ('Minutos', 'bigint')]"
      ]
     },
     "execution_count": 40,
     "metadata": {},
     "output_type": "execute_result"
    }
   ],
   "source": [
    "# Obtiene un array de tuplas (Columna, Tipo)\n",
    "df.dtypes"
   ]
  }
 ],
 "metadata": {
  "kernelspec": {
   "display_name": "spark",
   "language": "python",
   "name": "python3"
  },
  "language_info": {
   "codemirror_mode": {
    "name": "ipython",
    "version": 3
   },
   "file_extension": ".py",
   "mimetype": "text/x-python",
   "name": "python",
   "nbconvert_exporter": "python",
   "pygments_lexer": "ipython3",
   "version": "3.10.12"
  }
 },
 "nbformat": 4,
 "nbformat_minor": 5
}
