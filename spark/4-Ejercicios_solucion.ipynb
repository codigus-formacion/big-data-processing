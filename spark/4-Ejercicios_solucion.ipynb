{
  "cells": [
    {
      "cell_type": "markdown",
      "metadata": {
        "id": "gFQKdW0nszb8"
      },
      "source": [
        "# ⚽ Análisis de Estadísticas de Partidos de Fútbol con PySpark"
      ]
    },
    {
      "cell_type": "markdown",
      "metadata": {
        "id": "wIgMeL-OszcB"
      },
      "source": [
        "Este notebook aplica técnicas de PySpark (DataFrames, Agregaciones, UDFs y Funciones de Ventana) para el análisis de datos de fútbol."
      ]
    },
    {
      "cell_type": "code",
      "execution_count": 9,
      "metadata": {
        "colab": {
          "base_uri": "https://localhost:8080/"
        },
        "id": "AL76lBSfszcC",
        "outputId": "2eae20ce-7fdc-4f38-b1ca-120662bc9937"
      },
      "outputs": [],
      "source": [
        "import os\n",
        "import pyspark\n",
        "from pyspark.sql import SparkSession\n",
        "from pyspark.sql.types import *\n",
        "from pyspark.sql.functions import *\n",
        "from pyspark.sql import Window\n",
        "from math import radians, cos, sin, asin, sqrt\n",
        "\n",
        "# --- REEMPLAZO IMPORTANTE: Montar Google Drive ---\n",
        "# Ejecuta esto si tus archivos están en Drive. Reemplaza 'path_to_data' por la ruta real si usas el método de enlace simbólico.\n",
        "# from google.colab import drive\n",
        "# drive.mount('/content/drive')\n",
        "\n",
        "# Definir la carpeta base donde se encuentran los CSVs (AJUSTAR SEGÚN TU RUTA DE DRIVE)\n",
        "# Ejemplo: Si los datos están en 'Mi Drive/Colab Notebooks/data/soccer-data/'\n",
        "# DATA_BASE_PATH = '/content/drive/MyDrive/Colab Notebooks/soccer-data/'\n",
        "DATA_BASE_PATH=\"data/soccer-data/\"\n",
        "\n",
        "os.environ[\"JAVA_HOME\"] = \"/home/maes/.sdkman/candidates/java/current\"\n",
        "\n",
        "# Creación de la sesión de Spark\n",
        "spark = (SparkSession.builder\n",
        "    .appName(\"Soccer Analytics\")\n",
        "    .getOrCreate())\n"
      ]
    },
    {
      "cell_type": "markdown",
      "metadata": {
        "id": "ADOeE3NJszcE"
      },
      "source": [
        "---"
      ]
    },
    {
      "cell_type": "markdown",
      "metadata": {
        "id": "ri4K0KPmszcE"
      },
      "source": [
        "## 🏆 Dataset 1: Resultados de Partidos (`results.csv`)\n",
        "\n",
        "### Carga y Exploración Inicial"
      ]
    },
    {
      "cell_type": "code",
      "execution_count": 10,
      "metadata": {
        "colab": {
          "base_uri": "https://localhost:8080/"
        },
        "id": "q3nD78DLszcE",
        "outputId": "205ef893-efb4-497e-90c9-74d68e7e5767"
      },
      "outputs": [
        {
          "name": "stdout",
          "output_type": "stream",
          "text": [
            "root\n",
            " |-- date: date (nullable = true)\n",
            " |-- home_team: string (nullable = true)\n",
            " |-- away_team: string (nullable = true)\n",
            " |-- home_score: integer (nullable = true)\n",
            " |-- away_score: integer (nullable = true)\n",
            " |-- tournament: string (nullable = true)\n",
            " |-- city: string (nullable = true)\n",
            " |-- country: string (nullable = true)\n",
            " |-- neutral: string (nullable = true)\n",
            "\n",
            "+----------+---------------+-----------------+----------+----------+--------------+----------+-------+-------+\n",
            "|      date|      home_team|        away_team|home_score|away_score|    tournament|      city|country|neutral|\n",
            "+----------+---------------+-----------------+----------+----------+--------------+----------+-------+-------+\n",
            "|2023-08-12| Manchester Utd|           Wolves|         1|         0|Premier League|Manchester|England|  FALSE|\n",
            "|2023-08-12|        Arsenal|Nottingham Forest|         2|         1|Premier League|    London|England|  FALSE|\n",
            "|2023-08-12|        Chelsea|        Liverpool|         1|         1|Premier League|    London|England|  FALSE|\n",
            "|2023-08-13|Manchester City|        Newcastle|         4|         1|Premier League|Manchester|England|  FALSE|\n",
            "|2023-08-13|      Tottenham|         Brighton|         2|         2|Premier League|    London|England|  FALSE|\n",
            "+----------+---------------+-----------------+----------+----------+--------------+----------+-------+-------+\n",
            "only showing top 5 rows\n",
            "Número total de partidos: 110\n",
            "Número total de partidos: 110\n"
          ]
        }
      ],
      "source": [
        "# Definición del esquema para resultados de partidos (para evitar inferencia lenta/errónea)\n",
        "resultsSchema = StructType([\n",
        "    StructField(\"date\", DateType(), False),\n",
        "    StructField(\"home_team\", StringType(), False),\n",
        "    StructField(\"away_team\", StringType(), False),\n",
        "    StructField(\"home_score\", IntegerType(), False),\n",
        "    StructField(\"away_score\", IntegerType(), False),\n",
        "    StructField(\"tournament\", StringType(), False),\n",
        "    StructField(\"city\", StringType(), False),\n",
        "    StructField(\"country\", StringType(), False),\n",
        "    StructField(\"neutral\", StringType(), False)\n",
        "])\n",
        "\n",
        "# Carga del DataFrame de Resultados\n",
        "results_df = (spark.read.option(\"header\", \"true\")\n",
        "              .option(\"dateFormat\", \"yyyy-MM-dd\")\n",
        "              .csv(DATA_BASE_PATH + \"results.csv\", schema=resultsSchema)\n",
        "             )\n",
        "\n",
        "results_df.printSchema()\n",
        "results_df.show(5)\n",
        "print(f\"Número total de partidos: {results_df.count()}\")"
      ]
    },
    {
      "cell_type": "markdown",
      "metadata": {
        "id": "ZFM9o00lszcF"
      },
      "source": [
        "### Ejercicio 1: Resumen por Torneo\n",
        "\n",
        "Calcule para cada **Torneo** la fecha del primer partido (`start_date`), la fecha del último partido (`last_date`) y el **número total de goles** marcados (`total_goals`) en dicho torneo."
      ]
    },
    {
      "cell_type": "code",
      "execution_count": 11,
      "metadata": {
        "colab": {
          "base_uri": "https://localhost:8080/"
        },
        "id": "gR7vq_fwszcF",
        "outputId": "2b46205f-b835-428f-ef81-638a307c7038"
      },
      "outputs": [
        {
          "name": "stdout",
          "output_type": "stream",
          "text": [
            "+-----------------------+----------+----------+-----------+\n",
            "|tournament             |start_date|last_date |total_goals|\n",
            "+-----------------------+----------+----------+-----------+\n",
            "|Premier League         |2023-08-12|2023-09-03|63         |\n",
            "|UEFA Euro qualification|2023-03-23|2023-11-20|59         |\n",
            "|La Liga                |2023-09-16|2023-10-08|55         |\n",
            "|Friendly               |2023-06-15|2023-11-18|41         |\n",
            "|Bundesliga             |2023-08-18|2023-09-16|37         |\n",
            "+-----------------------+----------+----------+-----------+\n",
            "only showing top 5 rows\n"
          ]
        }
      ],
      "source": [
        "tournament_summary = (\n",
        "    results_df\n",
        "    .withColumn(\"total_match_goals\", col(\"home_score\") + col(\"away_score\"))\n",
        "    .groupBy(\"tournament\")\n",
        "    .agg(\n",
        "        min(\"date\").alias(\"start_date\"),\n",
        "        max(\"date\").alias(\"last_date\"),\n",
        "        sum(\"total_match_goals\").alias(\"total_goals\")\n",
        "    )\n",
        ")\n",
        "\n",
        "(tournament_summary\n",
        " .orderBy(col(\"total_goals\").desc())\n",
        " .show(5, truncate=False)\n",
        ")"
      ]
    },
    {
      "cell_type": "markdown",
      "metadata": {
        "id": "1t5_xE_VszcF"
      },
      "source": [
        "---"
      ]
    },
    {
      "cell_type": "markdown",
      "metadata": {
        "id": "O8JFyJvvszcF"
      },
      "source": [
        "## 🥅 Dataset 2: Goleadores por Partido (`goalscorers.csv`)\n",
        "\n",
        "### Carga y Exploración Inicial"
      ]
    },
    {
      "cell_type": "code",
      "execution_count": 12,
      "metadata": {
        "colab": {
          "base_uri": "https://localhost:8080/"
        },
        "id": "aDXPUJSYszcF",
        "outputId": "52e2329b-a86e-4fb4-91ac-6e1f4a5542f5"
      },
      "outputs": [
        {
          "name": "stdout",
          "output_type": "stream",
          "text": [
            "root\n",
            " |-- date: date (nullable = true)\n",
            " |-- home_team: string (nullable = true)\n",
            " |-- away_team: string (nullable = true)\n",
            " |-- team: string (nullable = true)\n",
            " |-- scorer: string (nullable = true)\n",
            " |-- minute: integer (nullable = true)\n",
            " |-- own_goal: string (nullable = true)\n",
            " |-- penalty: string (nullable = true)\n",
            "\n",
            "+----------+--------------+-----------------+-----------------+-----------+------+--------+-------+\n",
            "|date      |home_team     |away_team        |team             |scorer     |minute|own_goal|penalty|\n",
            "+----------+--------------+-----------------+-----------------+-----------+------+--------+-------+\n",
            "|2023-08-12|Manchester Utd|Wolves           |Manchester Utd   |Rashford M.|15    |NULL    |NULL   |\n",
            "|2023-08-12|Arsenal       |Nottingham Forest|Arsenal          |Saka B.    |8     |NULL    |NULL   |\n",
            "|2023-08-12|Arsenal       |Nottingham Forest|Nottingham Forest|Awoniyi T. |42    |NULL    |NULL   |\n",
            "|2023-08-12|Arsenal       |Nottingham Forest|Arsenal          |Odegaard M.|78    |NULL    |NULL   |\n",
            "|2023-08-12|Chelsea       |Liverpool        |Chelsea          |Sterling R.|25    |NULL    |NULL   |\n",
            "+----------+--------------+-----------------+-----------------+-----------+------+--------+-------+\n",
            "only showing top 5 rows\n",
            "Número total de goles registrados: 328\n",
            "+----------+--------------+-----------------+-----------------+-----------+------+--------+-------+\n",
            "|date      |home_team     |away_team        |team             |scorer     |minute|own_goal|penalty|\n",
            "+----------+--------------+-----------------+-----------------+-----------+------+--------+-------+\n",
            "|2023-08-12|Manchester Utd|Wolves           |Manchester Utd   |Rashford M.|15    |NULL    |NULL   |\n",
            "|2023-08-12|Arsenal       |Nottingham Forest|Arsenal          |Saka B.    |8     |NULL    |NULL   |\n",
            "|2023-08-12|Arsenal       |Nottingham Forest|Nottingham Forest|Awoniyi T. |42    |NULL    |NULL   |\n",
            "|2023-08-12|Arsenal       |Nottingham Forest|Arsenal          |Odegaard M.|78    |NULL    |NULL   |\n",
            "|2023-08-12|Chelsea       |Liverpool        |Chelsea          |Sterling R.|25    |NULL    |NULL   |\n",
            "+----------+--------------+-----------------+-----------------+-----------+------+--------+-------+\n",
            "only showing top 5 rows\n",
            "Número total de goles registrados: 328\n"
          ]
        }
      ],
      "source": [
        "# Definición del esquema para goleadores\n",
        "scorersSchema = StructType([\n",
        "    StructField(\"date\", DateType(), False),\n",
        "    StructField(\"home_team\", StringType(), False),\n",
        "    StructField(\"away_team\", StringType(), False),\n",
        "    StructField(\"team\", StringType(), False),\n",
        "    StructField(\"scorer\", StringType(), False),\n",
        "    StructField(\"minute\", IntegerType(), True),\n",
        "    StructField(\"own_goal\", StringType(), True),\n",
        "    StructField(\"penalty\", StringType(), True)\n",
        "])\n",
        "\n",
        "# Carga del DataFrame de Goleadores\n",
        "scorers_df = (spark.read.option(\"header\", \"true\")\n",
        "              .option(\"dateFormat\", \"yyyy-MM-dd\")\n",
        "              .csv(DATA_BASE_PATH + \"goalscorers.csv\", schema=scorersSchema)\n",
        "             )\n",
        "\n",
        "scorers_df.printSchema()\n",
        "scorers_df.show(5, truncate=False)\n",
        "print(f\"Número total de goles registrados: {scorers_df.count()}\")"
      ]
    },
    {
      "cell_type": "markdown",
      "metadata": {
        "id": "PAcoPBnyszcG"
      },
      "source": [
        "### Ejercicio 2: Ranking de Goleadores (Agregación)\n",
        "\n",
        "Calcule el **número total de goles** y la **media de minuto** en el que marca el gol para cada jugador (`scorer`). Muestre el ranking de los 5 mejores goleadores."
      ]
    },
    {
      "cell_type": "code",
      "execution_count": 13,
      "metadata": {
        "colab": {
          "base_uri": "https://localhost:8080/"
        },
        "id": "0KsYD2QqszcG",
        "outputId": "92ea940a-15b1-461f-8f6f-290f682c61f5"
      },
      "outputs": [
        {
          "name": "stdout",
          "output_type": "stream",
          "text": [
            "+------------+-----------+------------------+\n",
            "|      scorer|total_goals|avg_minute_of_goal|\n",
            "+------------+-----------+------------------+\n",
            "|   Mbappe K.|         14|             28.21|\n",
            "|  Ronaldo C.|         11|             37.55|\n",
            "|     Kane H.|          8|             41.13|\n",
            "|  Joao Felix|          7|             66.43|\n",
            "|Griezmann A.|          7|             42.29|\n",
            "+------------+-----------+------------------+\n",
            "only showing top 5 rows\n"
          ]
        }
      ],
      "source": [
        "scorer_ranking = (\n",
        "    scorers_df\n",
        "    .filter(col(\"own_goal\").isNull()) # Excluimos goles en propia puerta\n",
        "    .groupBy(\"scorer\")\n",
        "    .agg(\n",
        "        count(\"scorer\").alias(\"total_goals\"),\n",
        "        round(avg(\"minute\"), 2).alias(\"avg_minute_of_goal\")\n",
        "    )\n",
        ")\n",
        "\n",
        "(scorer_ranking\n",
        " .orderBy(col(\"total_goals\").desc())\n",
        " .show(5)\n",
        ")"
      ]
    },
    {
      "cell_type": "markdown",
      "metadata": {
        "id": "AQpKxNAKszcG"
      },
      "source": [
        "---"
      ]
    },
    {
      "cell_type": "markdown",
      "metadata": {
        "id": "s2Y2CLmtszcG"
      },
      "source": [
        "### Ejercicio 3: Cálculo de Valor de Gol con UDF\n",
        "\n",
        "Cree una función de usuario (UDF) llamada `goal_value` que asigne un **valor** a cada gol en función del minuto:\n",
        "\n",
        "- Gol en el minuto 90 o posterior: **Valor 3** (Gol tardío/decisivo)\n",
        "- Gol entre el minuto 76 y 89: **Valor 2**\n",
        "- Gol antes del minuto 76: **Valor 1**\n",
        "\n",
        "Calcule el valor total de los goles para cada jugador."
      ]
    },
    {
      "cell_type": "markdown",
      "metadata": {},
      "source": [
        "#### 💡 ¿Qué es una UDF (User Defined Function)?\n",
        "\n",
        "Una **UDF** (Función Definida por el Usuario) es una función personalizada que permite extender las capacidades de PySpark aplicando lógica personalizada a los datos.\n",
        "\n",
        "**Características principales:**\n",
        "- ✅ Permite aplicar funciones Python personalizadas sobre columnas de DataFrames\n",
        "- ✅ Útil cuando las funciones nativas de Spark no cubren una necesidad específica\n",
        "- ✅ Se puede aplicar usando `.withColumn()` o `.select()`\n",
        "- ⚠️ **Nota de rendimiento:** Las UDF son más lentas que las funciones nativas de Spark porque requieren serialización/deserialización de datos entre la JVM y Python\n",
        "\n",
        "**Sintaxis básica:**\n",
        "```python\n",
        "from pyspark.sql.functions import udf\n",
        "from pyspark.sql.types import TipoRetorno\n",
        "\n",
        "# 1. Definir función Python\n",
        "def mi_funcion(valor):\n",
        "    return resultado\n",
        "\n",
        "# 2. Convertir a UDF de Spark\n",
        "mi_udf = udf(mi_funcion, TipoRetorno())\n",
        "\n",
        "# 3. Aplicar la UDF\n",
        "df = df.withColumn(\"nueva_columna\", mi_udf(col(\"columna_existente\")))\n",
        "```"
      ]
    },
    {
      "cell_type": "code",
      "execution_count": 14,
      "metadata": {
        "colab": {
          "base_uri": "https://localhost:8080/"
        },
        "id": "LpmdxvexszcG",
        "outputId": "87c8a7f1-5187-4aa5-c25e-498b32bfb9e3"
      },
      "outputs": [
        {
          "name": "stdout",
          "output_type": "stream",
          "text": [
            "+----------------+----------------+-----------+\n",
            "|          scorer|total_goal_value|total_goals|\n",
            "+----------------+----------------+-----------+\n",
            "|       Mbappe K.|              15|         14|\n",
            "|      Ronaldo C.|              13|         11|\n",
            "|      Joao Felix|              12|          7|\n",
            "|Lautaro Martinez|              12|          6|\n",
            "|    Vinicius Jr.|              11|          6|\n",
            "+----------------+----------------+-----------+\n",
            "only showing top 5 rows\n"
          ]
        }
      ],
      "source": [
        "# 1. Definición de la función Python\n",
        "def goal_value_function(minute):\n",
        "    if minute is None:\n",
        "        return 0\n",
        "    elif minute >= 90:\n",
        "        return 3\n",
        "    elif minute >= 76:\n",
        "        return 2\n",
        "    else:\n",
        "        return 1\n",
        "\n",
        "# 2. Conversión a UDF de Spark\n",
        "goal_value_udf = udf(goal_value_function, IntegerType())\n",
        "\n",
        "# 3. Aplicación y Agregación\n",
        "scorer_value = (\n",
        "    scorers_df\n",
        "    .filter(col(\"own_goal\").isNull())\n",
        "    .withColumn(\"goal_value\", goal_value_udf(col(\"minute\")))\n",
        "    .groupBy(\"scorer\")\n",
        "    .agg(\n",
        "        sum(\"goal_value\").alias(\"total_goal_value\"),\n",
        "        count(\"scorer\").alias(\"total_goals\")\n",
        "    )\n",
        ")\n",
        "\n",
        "(scorer_value\n",
        " .orderBy(col(\"total_goal_value\").desc())\n",
        " .show(5)\n",
        ")"
      ]
    },
    {
      "cell_type": "markdown",
      "metadata": {
        "id": "X_bLCpsHszcH"
      },
      "source": [
        "---"
      ]
    },
    {
      "cell_type": "markdown",
      "metadata": {
        "id": "6e60zsF7szcH"
      },
      "source": [
        "### Ejercicio 4: Goles Acumulados por Equipo (Funciones de Ventana)\n",
        "\n",
        "Utilizando las **Funciones de Ventana** (`Window`), calcule el **número acumulado de goles** para cada equipo (`team`), ordenados por la fecha (`date`) y el minuto (`minute`) del gol. Esto simula el *running total* de la evolución goleadora."
      ]
    },
    {
      "cell_type": "markdown",
      "metadata": {},
      "source": [
        "#### 💡 ¿Qué son las Funciones de Ventana (Window Functions)?\n",
        "\n",
        "Las **Funciones de Ventana** permiten realizar cálculos sobre un conjunto de filas relacionadas con la fila actual, sin colapsar los resultados en una sola fila (como lo haría `groupBy`).\n",
        "\n",
        "**Características principales:**\n",
        "- ✅ Mantienen todas las filas originales en el resultado\n",
        "- ✅ Permiten realizar cálculos como **sumas acumuladas**, **rankings**, **promedios móviles**, etc.\n",
        "- ✅ Se definen mediante **particiones** (grupos) y **ordenamiento**\n",
        "- 🎯 Muy útiles para análisis de series temporales y rankings\n",
        "\n",
        "**Componentes de una ventana:**\n",
        "1. **`partitionBy()`**: Divide los datos en grupos (similar a `groupBy`)\n",
        "2. **`orderBy()`**: Define el orden dentro de cada partición\n",
        "3. **`rowsBetween()` / `rangeBetween()`**: Define el rango de filas a considerar (opcional)\n",
        "\n",
        "**Sintaxis básica:**\n",
        "```python\n",
        "from pyspark.sql import Window\n",
        "from pyspark.sql.functions import sum, rank, row_number\n",
        "\n",
        "# Definir la ventana\n",
        "window_spec = Window.partitionBy('columna_grupo').orderBy('columna_orden')\n",
        "\n",
        "# Aplicar función de ventana\n",
        "df = df.withColumn('suma_acumulada', sum('columna').over(window_spec))\n",
        "df = df.withColumn('ranking', rank().over(window_spec))\n",
        "```\n",
        "\n",
        "**Funciones de ventana comunes:**\n",
        "- `sum()`, `avg()`, `min()`, `max()`: Agregaciones sobre la ventana\n",
        "- `rank()`, `dense_rank()`, `row_number()`: Rankings\n",
        "- `lag()`, `lead()`: Acceso a filas anteriores/siguientes\n",
        "\n",
        "---\n",
        "\n",
        "#### 🔍 Pistas para el Ejercicio 4:\n",
        "\n",
        "1. **Crear un identificador único**: Usa `monotonically_increasing_id()` para crear un ID de secuencia único por cada gol. Esto garantiza un orden determinista cuando hay múltiples goles en el mismo minuto.\n",
        "   ```python\n",
        "   df = df.withColumn(\"goal_sequence_id\", monotonically_increasing_id())\n",
        "   ```\n",
        "\n",
        "2. **Ordenamiento de la ventana**: Para una suma acumulada correcta, ordena por `date` y luego por el `goal_sequence_id`:\n",
        "   ```python\n",
        "   window_spec = Window.partitionBy('team').orderBy('date', 'goal_sequence_id')\n",
        "   ```\n",
        "\n",
        "3. **Contar goles con `lit(1)`**: Para contar un gol por cada fila, usa `lit(1)` en lugar de contar una columna específica:\n",
        "   ```python\n",
        "   sum(lit(1)).over(window_spec)\n",
        "   ```\n",
        "   Esto suma el valor `1` por cada fila, generando así el conteo acumulado de goles."
      ]
    },
    {
      "cell_type": "code",
      "execution_count": 15,
      "metadata": {
        "colab": {
          "base_uri": "https://localhost:8080/"
        },
        "id": "errALBZ1szcH",
        "outputId": "6f8c0d70-2329-4541-89ee-3bd85d5fe7b0"
      },
      "outputs": [
        {
          "name": "stdout",
          "output_type": "stream",
          "text": [
            "+----------+-----------+-------------+------+----------------+\n",
            "|      date|       team|       scorer|minute|cumulative_goals|\n",
            "+----------+-----------+-------------+------+----------------+\n",
            "|2023-09-16|Real Madrid|Bellingham J.|    18|               1|\n",
            "|2023-09-16|Real Madrid| Vinicius Jr.|    92|               2|\n",
            "|2023-09-23|Real Madrid|Bellingham J.|    72|               3|\n",
            "|2023-09-30|Real Madrid|Bellingham J.|    17|               4|\n",
            "|2023-09-30|Real Madrid| Vinicius Jr.|    55|               5|\n",
            "|2023-09-30|Real Madrid|      Rodrygo|    88|               6|\n",
            "|2023-10-08|Real Madrid|Bellingham J.|     8|               7|\n",
            "|2023-10-08|Real Madrid| Vinicius Jr.|    18|               8|\n",
            "|2023-10-08|Real Madrid|      Rodrygo|    45|               9|\n",
            "|2023-10-08|Real Madrid|Bellingham J.|    77|              10|\n",
            "+----------+-----------+-------------+------+----------------+\n",
            "\n"
          ]
        }
      ],
      "source": [
        "# Creamos un identificador único para la secuencia de goles (monotonically_increasing_id)\n",
        "goals_with_id_df = scorers_df.withColumn(\"goal_sequence_id\", monotonically_increasing_id())\n",
        "\n",
        "# 1. Definición de la Ventana:\n",
        "#    - Partición: por equipo ('team').\n",
        "#    - Orden: por fecha ('date') y luego por el ID de secuencia para un orden determinista.\n",
        "window_spec = Window.partitionBy('team').orderBy('date', 'goal_sequence_id')\n",
        "\n",
        "# 2. Cálculo de la Suma Acumulada\n",
        "acc_goals = (\n",
        "    goals_with_id_df\n",
        "    .filter(col(\"own_goal\").isNull())\n",
        "    .select(\n",
        "        'date',\n",
        "        'team',\n",
        "        'scorer',\n",
        "        'minute',\n",
        "        # Calcula la suma acumulada de goles (contamos 1 por cada fila)\n",
        "        sum(lit(1)).over(window_spec).alias('cumulative_goals')\n",
        "    )\n",
        ")\n",
        "\n",
        "# 3. Muestra de los resultados (solo para el equipo de Real Madrid como ejemplo)\n",
        "(acc_goals\n",
        " .filter(col(\"team\") == \"Real Madrid\")\n",
        " .orderBy(\"date\", \"minute\")\n",
        " .show(10)\n",
        ")"
      ]
    }
  ],
  "metadata": {
    "colab": {
      "provenance": []
    },
    "kernelspec": {
      "display_name": "spark",
      "language": "python",
      "name": "python3"
    },
    "language_info": {
      "codemirror_mode": {
        "name": "ipython",
        "version": 3
      },
      "file_extension": ".py",
      "mimetype": "text/x-python",
      "name": "python",
      "nbconvert_exporter": "python",
      "pygments_lexer": "ipython3",
      "version": "3.10.12"
    }
  },
  "nbformat": 4,
  "nbformat_minor": 0
}
