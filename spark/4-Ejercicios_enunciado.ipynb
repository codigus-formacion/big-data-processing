{
  "cells": [
    {
      "cell_type": "markdown",
      "metadata": {
        "id": "gFQKdW0nszb8"
      },
      "source": [
        "# ⚽ Análisis de Estadísticas de Partidos de Fútbol con PySpark"
      ]
    },
    {
      "cell_type": "markdown",
      "metadata": {
        "id": "wIgMeL-OszcB"
      },
      "source": [
        "Este notebook aplica técnicas de PySpark (DataFrames, Agregaciones, UDFs y Funciones de Ventana) para el análisis de datos de fútbol."
      ]
    },
    {
      "cell_type": "code",
      "execution_count": 8,
      "metadata": {
        "colab": {
          "base_uri": "https://localhost:8080/"
        },
        "id": "AL76lBSfszcC",
        "outputId": "3681fe74-9c28-4f87-9fb0-4b8b3281e980"
      },
      "outputs": [
        {
          "output_type": "stream",
          "name": "stdout",
          "text": [
            "Drive already mounted at /content/drive; to attempt to forcibly remount, call drive.mount(\"/content/drive\", force_remount=True).\n"
          ]
        }
      ],
      "source": [
        "import os\n",
        "import pyspark\n",
        "from pyspark.sql import SparkSession\n",
        "from pyspark.sql.types import *\n",
        "from pyspark.sql.functions import *\n",
        "from pyspark.sql import Window\n",
        "from math import radians, cos, sin, asin, sqrt\n",
        "\n",
        "# --- REEMPLAZO IMPORTANTE: Montar Google Drive ---\n",
        "# Ejecuta esto si tus archivos están en Drive. Reemplaza 'path_to_data' por la ruta real si usas el método de enlace simbólico.\n",
        "from google.colab import drive\n",
        "drive.mount('/content/drive')\n",
        "\n",
        "# Definir la carpeta base donde se encuentran los CSVs (AJUSTAR SEGÚN TU RUTA DE DRIVE)\n",
        "# Ejemplo: Si los datos están en 'Mi Drive/Colab Notebooks/data/soccer-data/'\n",
        "DATA_BASE_PATH = '/content/drive/MyDrive/Colab Notebooks/soccer-data/'\n",
        "\n",
        "# Creación de la sesión de Spark\n",
        "spark = (SparkSession.builder\n",
        "    .appName(\"Soccer Analytics\")\n",
        "    .getOrCreate())\n"
      ]
    },
    {
      "cell_type": "markdown",
      "metadata": {
        "id": "ADOeE3NJszcE"
      },
      "source": [
        "---"
      ]
    },
    {
      "cell_type": "markdown",
      "metadata": {
        "id": "ri4K0KPmszcE"
      },
      "source": [
        "## 🏆 Dataset 1: Resultados de Partidos (`results.csv`)\n",
        "\n",
        "### Carga y Exploración Inicial"
      ]
    },
    {
      "cell_type": "code",
      "execution_count": 9,
      "metadata": {
        "colab": {
          "base_uri": "https://localhost:8080/"
        },
        "id": "q3nD78DLszcE",
        "outputId": "6868798e-7bd1-44a8-c79b-84245af0433e"
      },
      "outputs": [
        {
          "output_type": "stream",
          "name": "stdout",
          "text": [
            "root\n",
            " |-- date: date (nullable = true)\n",
            " |-- home_team: string (nullable = true)\n",
            " |-- away_team: string (nullable = true)\n",
            " |-- home_score: integer (nullable = true)\n",
            " |-- away_score: integer (nullable = true)\n",
            " |-- tournament: string (nullable = true)\n",
            " |-- city: string (nullable = true)\n",
            " |-- country: string (nullable = true)\n",
            " |-- neutral: string (nullable = true)\n",
            "\n",
            "+----------+---------------+-----------------+----------+----------+--------------+----------+-------+-------+\n",
            "|      date|      home_team|        away_team|home_score|away_score|    tournament|      city|country|neutral|\n",
            "+----------+---------------+-----------------+----------+----------+--------------+----------+-------+-------+\n",
            "|2023-08-12| Manchester Utd|           Wolves|         1|         0|Premier League|Manchester|England|  FALSE|\n",
            "|2023-08-12|        Arsenal|Nottingham Forest|         2|         1|Premier League|    London|England|  FALSE|\n",
            "|2023-08-12|        Chelsea|        Liverpool|         1|         1|Premier League|    London|England|  FALSE|\n",
            "|2023-08-13|Manchester City|        Newcastle|         4|         1|Premier League|Manchester|England|  FALSE|\n",
            "|2023-08-13|      Tottenham|         Brighton|         2|         2|Premier League|    London|England|  FALSE|\n",
            "+----------+---------------+-----------------+----------+----------+--------------+----------+-------+-------+\n",
            "only showing top 5 rows\n",
            "\n",
            "Número total de partidos: 110\n"
          ]
        }
      ],
      "source": [
        "# Definición del esquema para resultados de partidos (para evitar inferencia lenta/errónea)\n",
        "resultsSchema = StructType([\n",
        "    StructField(\"date\", DateType(), False),\n",
        "    StructField(\"home_team\", StringType(), False),\n",
        "    StructField(\"away_team\", StringType(), False),\n",
        "    StructField(\"home_score\", IntegerType(), False),\n",
        "    StructField(\"away_score\", IntegerType(), False),\n",
        "    StructField(\"tournament\", StringType(), False),\n",
        "    StructField(\"city\", StringType(), False),\n",
        "    StructField(\"country\", StringType(), False),\n",
        "    StructField(\"neutral\", StringType(), False)\n",
        "])\n",
        "\n",
        "# Carga del DataFrame de Resultados\n",
        "results_df = (spark.read.option(\"header\", \"true\")\n",
        "              .option(\"dateFormat\", \"yyyy-MM-dd\")\n",
        "              .csv(DATA_BASE_PATH + \"results.csv\", schema=resultsSchema)\n",
        "             )\n",
        "\n",
        "results_df.printSchema()\n",
        "results_df.show(5)\n",
        "print(f\"Número total de partidos: {results_df.count()}\")"
      ]
    },
    {
      "cell_type": "markdown",
      "metadata": {
        "id": "ZFM9o00lszcF"
      },
      "source": [
        "### Ejercicio 1: Resumen por Torneo\n",
        "\n",
        "Calcule para cada **Torneo** la fecha del primer partido (`start_date`), la fecha del último partido (`last_date`) y el **número total de goles** marcados (`total_goals`) en dicho torneo."
      ]
    },
    {
      "cell_type": "code",
      "execution_count": 15,
      "metadata": {
        "id": "gR7vq_fwszcF"
      },
      "outputs": [],
      "source": [
        "# Solución Ejercicio 1"
      ]
    },
    {
      "cell_type": "markdown",
      "metadata": {
        "id": "1t5_xE_VszcF"
      },
      "source": [
        "---"
      ]
    },
    {
      "cell_type": "markdown",
      "metadata": {
        "id": "O8JFyJvvszcF"
      },
      "source": [
        "## 🥅 Dataset 2: Goleadores por Partido (`goalscorers.csv`)\n",
        "\n",
        "### Carga y Exploración Inicial"
      ]
    },
    {
      "cell_type": "code",
      "execution_count": 11,
      "metadata": {
        "colab": {
          "base_uri": "https://localhost:8080/"
        },
        "id": "aDXPUJSYszcF",
        "outputId": "81bbe7c1-0294-424f-eeb3-3491113894e8"
      },
      "outputs": [
        {
          "output_type": "stream",
          "name": "stdout",
          "text": [
            "root\n",
            " |-- date: date (nullable = true)\n",
            " |-- home_team: string (nullable = true)\n",
            " |-- away_team: string (nullable = true)\n",
            " |-- team: string (nullable = true)\n",
            " |-- scorer: string (nullable = true)\n",
            " |-- minute: integer (nullable = true)\n",
            " |-- own_goal: string (nullable = true)\n",
            " |-- penalty: string (nullable = true)\n",
            "\n",
            "+----------+--------------+-----------------+-----------------+-----------+------+--------+-------+\n",
            "|date      |home_team     |away_team        |team             |scorer     |minute|own_goal|penalty|\n",
            "+----------+--------------+-----------------+-----------------+-----------+------+--------+-------+\n",
            "|2023-08-12|Manchester Utd|Wolves           |Manchester Utd   |Rashford M.|15    |NULL    |NULL   |\n",
            "|2023-08-12|Arsenal       |Nottingham Forest|Arsenal          |Saka B.    |8     |NULL    |NULL   |\n",
            "|2023-08-12|Arsenal       |Nottingham Forest|Nottingham Forest|Awoniyi T. |42    |NULL    |NULL   |\n",
            "|2023-08-12|Arsenal       |Nottingham Forest|Arsenal          |Odegaard M.|78    |NULL    |NULL   |\n",
            "|2023-08-12|Chelsea       |Liverpool        |Chelsea          |Sterling R.|25    |NULL    |NULL   |\n",
            "+----------+--------------+-----------------+-----------------+-----------+------+--------+-------+\n",
            "only showing top 5 rows\n",
            "\n",
            "Número total de goles registrados: 328\n"
          ]
        }
      ],
      "source": [
        "# Definición del esquema para goleadores\n",
        "scorersSchema = StructType([\n",
        "    StructField(\"date\", DateType(), False),\n",
        "    StructField(\"home_team\", StringType(), False),\n",
        "    StructField(\"away_team\", StringType(), False),\n",
        "    StructField(\"team\", StringType(), False),\n",
        "    StructField(\"scorer\", StringType(), False),\n",
        "    StructField(\"minute\", IntegerType(), True),\n",
        "    StructField(\"own_goal\", StringType(), True),\n",
        "    StructField(\"penalty\", StringType(), True)\n",
        "])\n",
        "\n",
        "# Carga del DataFrame de Goleadores\n",
        "scorers_df = (spark.read.option(\"header\", \"true\")\n",
        "              .option(\"dateFormat\", \"yyyy-MM-dd\")\n",
        "              .csv(DATA_BASE_PATH + \"goalscorers.csv\", schema=scorersSchema)\n",
        "             )\n",
        "\n",
        "scorers_df.printSchema()\n",
        "scorers_df.show(5, truncate=False)\n",
        "print(f\"Número total de goles registrados: {scorers_df.count()}\")"
      ]
    },
    {
      "cell_type": "markdown",
      "metadata": {
        "id": "PAcoPBnyszcG"
      },
      "source": [
        "### Ejercicio 2: Ranking de Goleadores (Agregación)\n",
        "\n",
        "Calcule el **número total de goles** y la **media de minuto** en el que marca el gol para cada jugador (`scorer`). Muestre el ranking de los 5 mejores goleadores."
      ]
    },
    {
      "cell_type": "code",
      "execution_count": 16,
      "metadata": {
        "id": "0KsYD2QqszcG"
      },
      "outputs": [],
      "source": [
        "# Solución Ejercicio 2"
      ]
    },
    {
      "cell_type": "markdown",
      "metadata": {
        "id": "AQpKxNAKszcG"
      },
      "source": [
        "---"
      ]
    },
    {
      "cell_type": "markdown",
      "metadata": {
        "id": "s2Y2CLmtszcG"
      },
      "source": [
        "### Ejercicio 3: Cálculo de Valor de Gol con UDF\n",
        "\n",
        "Cree una función de usuario (UDF) llamada `goal_value` que asigne un **valor** a cada gol en función del minuto:\n",
        "\n",
        "- Gol en el minuto 90 o posterior: **Valor 3** (Gol tardío/decisivo)\n",
        "- Gol entre el minuto 76 y 89: **Valor 2**\n",
        "- Gol antes del minuto 76: **Valor 1**\n",
        "\n",
        "Calcule el valor total de los goles para cada jugador."
      ]
    },
    {
      "cell_type": "markdown",
      "metadata": {
        "id": "O4yOVKYVAILM"
      },
      "source": [
        "#### 💡 ¿Qué es una UDF (User Defined Function)?\n",
        "\n",
        "Una **UDF** (Función Definida por el Usuario) es una función personalizada que permite extender las capacidades de PySpark aplicando lógica personalizada a los datos.\n",
        "\n",
        "**Características principales:**\n",
        "- ✅ Permite aplicar funciones Python personalizadas sobre columnas de DataFrames\n",
        "- ✅ Útil cuando las funciones nativas de Spark no cubren una necesidad específica\n",
        "- ✅ Se puede aplicar usando `.withColumn()` o `.select()`\n",
        "- ⚠️ **Nota de rendimiento:** Las UDF son más lentas que las funciones nativas de Spark porque requieren serialización/deserialización de datos entre la JVM y Python\n",
        "\n",
        "**Sintaxis básica:**\n",
        "```python\n",
        "from pyspark.sql.functions import udf\n",
        "from pyspark.sql.types import TipoRetorno\n",
        "\n",
        "# 1. Definir función Python\n",
        "def mi_funcion(valor):\n",
        "    return resultado\n",
        "\n",
        "# 2. Convertir a UDF de Spark\n",
        "mi_udf = udf(mi_funcion, TipoRetorno())\n",
        "\n",
        "# 3. Aplicar la UDF\n",
        "df = df.withColumn(\"nueva_columna\", mi_udf(col(\"columna_existente\")))\n",
        "```"
      ]
    },
    {
      "cell_type": "code",
      "execution_count": 17,
      "metadata": {
        "id": "LpmdxvexszcG"
      },
      "outputs": [],
      "source": [
        "# Solución Ejercicio 3"
      ]
    },
    {
      "cell_type": "markdown",
      "metadata": {
        "id": "X_bLCpsHszcH"
      },
      "source": [
        "---"
      ]
    },
    {
      "cell_type": "markdown",
      "metadata": {
        "id": "6e60zsF7szcH"
      },
      "source": [
        "### Ejercicio 4: Goles Acumulados por Equipo (Funciones de Ventana)\n",
        "\n",
        "Utilizando las **Funciones de Ventana** (`Window`), calcule el **número acumulado de goles** para cada equipo (`team`), ordenados por la fecha (`date`) y el minuto (`minute`) del gol. Esto simula el *running total* de la evolución goleadora."
      ]
    },
    {
      "cell_type": "markdown",
      "metadata": {
        "id": "_p23vLCqAILM"
      },
      "source": [
        "#### 💡 ¿Qué son las Funciones de Ventana (Window Functions)?\n",
        "\n",
        "Las **Funciones de Ventana** permiten realizar cálculos sobre un conjunto de filas relacionadas con la fila actual, sin colapsar los resultados en una sola fila (como lo haría `groupBy`).\n",
        "\n",
        "**Características principales:**\n",
        "- ✅ Mantienen todas las filas originales en el resultado\n",
        "- ✅ Permiten realizar cálculos como **sumas acumuladas**, **rankings**, **promedios móviles**, etc.\n",
        "- ✅ Se definen mediante **particiones** (grupos) y **ordenamiento**\n",
        "- 🎯 Muy útiles para análisis de series temporales y rankings\n",
        "\n",
        "**Componentes de una ventana:**\n",
        "1. **`partitionBy()`**: Divide los datos en grupos (similar a `groupBy`)\n",
        "2. **`orderBy()`**: Define el orden dentro de cada partición\n",
        "3. **`rowsBetween()` / `rangeBetween()`**: Define el rango de filas a considerar (opcional)\n",
        "\n",
        "**Sintaxis básica:**\n",
        "```python\n",
        "from pyspark.sql import Window\n",
        "from pyspark.sql.functions import sum, rank, row_number\n",
        "\n",
        "# Definir la ventana\n",
        "window_spec = Window.partitionBy('columna_grupo').orderBy('columna_orden')\n",
        "\n",
        "# Aplicar función de ventana\n",
        "df = df.withColumn('suma_acumulada', sum('columna').over(window_spec))\n",
        "df = df.withColumn('ranking', rank().over(window_spec))\n",
        "```\n",
        "\n",
        "**Funciones de ventana comunes:**\n",
        "- `sum()`, `avg()`, `min()`, `max()`: Agregaciones sobre la ventana\n",
        "- `rank()`, `dense_rank()`, `row_number()`: Rankings\n",
        "- `lag()`, `lead()`: Acceso a filas anteriores/siguientes\n",
        "\n",
        "---\n",
        "\n",
        "#### 🔍 Pistas para el Ejercicio 4:\n",
        "\n",
        "1. **Crear un identificador único**: Usa `monotonically_increasing_id()` para crear un ID de secuencia único por cada gol. Esto garantiza un orden determinista cuando hay múltiples goles en el mismo minuto.\n",
        "   ```python\n",
        "   df = df.withColumn(\"goal_sequence_id\", monotonically_increasing_id())\n",
        "   ```\n",
        "\n",
        "2. **Ordenamiento de la ventana**: Para una suma acumulada correcta, ordena por `date` y luego por el `goal_sequence_id`:\n",
        "   ```python\n",
        "   window_spec = Window.partitionBy('team').orderBy('date', 'goal_sequence_id')\n",
        "   ```\n",
        "\n",
        "3. **Contar goles con `lit(1)`**: Para contar un gol por cada fila, usa `lit(1)` en lugar de contar una columna específica:\n",
        "   ```python\n",
        "   sum(lit(1)).over(window_spec)\n",
        "   ```\n",
        "   Esto suma el valor `1` por cada fila, generando así el conteo acumulado de goles."
      ]
    },
    {
      "cell_type": "code",
      "execution_count": 18,
      "metadata": {
        "id": "errALBZ1szcH"
      },
      "outputs": [],
      "source": [
        "# Solución Ejercicio 4"
      ]
    }
  ],
  "metadata": {
    "colab": {
      "provenance": []
    },
    "kernelspec": {
      "display_name": "spark",
      "language": "python",
      "name": "python3"
    },
    "language_info": {
      "codemirror_mode": {
        "name": "ipython",
        "version": 3
      },
      "file_extension": ".py",
      "mimetype": "text/x-python",
      "name": "python",
      "nbconvert_exporter": "python",
      "pygments_lexer": "ipython3",
      "version": "3.10.12"
    }
  },
  "nbformat": 4,
  "nbformat_minor": 0
}