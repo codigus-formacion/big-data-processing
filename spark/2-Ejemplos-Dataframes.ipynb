{
 "cells": [
  {
   "cell_type": "markdown",
   "id": "e85b024c",
   "metadata": {},
   "source": [
    "# Dataframes con PySpark\n",
    "\n",
    "En este notebook aprenderemos cómo crear DataFrames a partir de colecciones de Python y de ficheros externos."
   ]
  },
  {
   "cell_type": "markdown",
   "id": "9db02c8e",
   "metadata": {},
   "source": [
    "Comenzamos importando las librerías necesarias y creando una sesión de Spark:"
   ]
  },
  {
   "cell_type": "code",
   "execution_count": 1,
   "id": "602ee4cd",
   "metadata": {},
   "outputs": [
    {
     "name": "stderr",
     "output_type": "stream",
     "text": [
      "WARNING: Using incubator modules: jdk.incubator.vector\n",
      "Using Spark's default log4j profile: org/apache/spark/log4j2-defaults.properties\n",
      "25/10/15 14:31:38 WARN Utils: Your hostname, maes, resolves to a loopback address: 127.0.1.1; using 10.0.68.169 instead (on interface wlp0s20f3)\n",
      "25/10/15 14:31:38 WARN Utils: Set SPARK_LOCAL_IP if you need to bind to another address\n",
      "Using Spark's default log4j profile: org/apache/spark/log4j2-defaults.properties\n",
      "Setting default log level to \"WARN\".\n",
      "To adjust logging level use sc.setLogLevel(newLevel). For SparkR, use setLogLevel(newLevel).\n",
      "25/10/15 14:31:39 WARN NativeCodeLoader: Unable to load native-hadoop library for your platform... using builtin-java classes where applicable\n",
      "25/10/15 14:31:39 WARN Utils: Service 'SparkUI' could not bind on port 4040. Attempting port 4041.\n"
     ]
    }
   ],
   "source": [
    "from pyspark.sql import SparkSession\n",
    "\n",
    "# Crear sesión de Spark\n",
    "spark = SparkSession.builder.appName(\"Analisis Deportivo con Spark\").getOrCreate()"
   ]
  },
  {
   "cell_type": "markdown",
   "id": "62ccd26c",
   "metadata": {},
   "source": [
    "### Ejemplo 3\n",
    "\n",
    "Vamos a crear un Dataframe a partir de una colección de Python. "
   ]
  },
  {
   "cell_type": "code",
   "execution_count": 2,
   "id": "e3643e6e",
   "metadata": {},
   "outputs": [
    {
     "name": "stderr",
     "output_type": "stream",
     "text": [
      "                                                                                \r"
     ]
    },
    {
     "name": "stdout",
     "output_type": "stream",
     "text": [
      "+-------+-----+--------+-----+\n",
      "| equipo|goles|posesion|pases|\n",
      "+-------+-----+--------+-----+\n",
      "|EquipoA|    2|    55.0|  480|\n",
      "|EquipoB|    1|    45.0|  390|\n",
      "+-------+-----+--------+-----+\n",
      "\n"
     ]
    }
   ],
   "source": [
    "# Datos simulados: equipo, goles, posesión, pases\n",
    "data = [(\"EquipoA\", 2, 55.0, 480), (\"EquipoB\", 1, 45.0, 390)]\n",
    "\n",
    "# Crear DataFrame a partir de la lista indicando las columnas\n",
    "df = spark.createDataFrame(data, [\"equipo\", \"goles\", \"posesion\", \"pases\"])\n",
    "\n",
    "# Mostrar el DataFrame\n",
    "df.show()"
   ]
  },
  {
   "cell_type": "markdown",
   "id": "691cb03b",
   "metadata": {},
   "source": [
    "### Ejemplo 4\n",
    "\n",
    "En este ejemplo vamos a crear un Dataframe a partir de un fichero CSV con datos de jugadores de fútbol. El fichero no tiene cabecera, por lo que debemos definir el esquema de los datos."
   ]
  },
  {
   "cell_type": "code",
   "execution_count": null,
   "id": "9bf8b430",
   "metadata": {},
   "outputs": [],
   "source": [
    "# Montamos la carpeta (nos pedirá permisos)\n",
    "from google.colab import drive\n",
    "drive.mount('/content/drive')\n",
    "# Crea un atajo llamado 'workspace' en la carpeta /content (dará un pequeño error si ya existe)\n",
    "!ln -s \"/content/drive/MyDrive/Colab Notebooks\" \"/content/workspace\" >/dev/null 2>&1\n",
    "# Ya podemos acceder a los ficheros, por ejemplo:\n",
    "ruta_fichero = \"/content/workspace/data/wordcount_data.txt\""
   ]
  },
  {
   "cell_type": "code",
   "execution_count": 3,
   "id": "d505bf1a",
   "metadata": {},
   "outputs": [
    {
     "name": "stdout",
     "output_type": "stream",
     "text": [
      "+--------+-------+---------+-----+-----+\n",
      "| Jugador| Equipo|Velocidad|Goles|Pases|\n",
      "+--------+-------+---------+-----+-----+\n",
      "|Jugador1|EquipoA|     28.5|    2|  480|\n",
      "|Jugador2|EquipoA|     30.2|    1|  510|\n",
      "|Jugador3|EquipoB|     26.7|    0|  390|\n",
      "+--------+-------+---------+-----+-----+\n",
      "\n",
      "root\n",
      " |-- Jugador: string (nullable = true)\n",
      " |-- Equipo: string (nullable = true)\n",
      " |-- Velocidad: double (nullable = true)\n",
      " |-- Goles: integer (nullable = true)\n",
      " |-- Pases: integer (nullable = true)\n",
      "\n"
     ]
    }
   ],
   "source": [
    "from pyspark.sql.types import StructType, StructField, StringType, DoubleType, IntegerType\n",
    "\n",
    "# Definir el esquema manualmente\n",
    "schema = StructType([\n",
    "    StructField(\"Jugador\", StringType(), True),\n",
    "    StructField(\"Equipo\", StringType(), True),\n",
    "    StructField(\"Velocidad\", DoubleType(), True),\n",
    "    StructField(\"Goles\", IntegerType(), True),\n",
    "    StructField(\"Pases\", IntegerType(), True)\n",
    "])\n",
    "\n",
    "# Leer el archivo CSV con el esquema\n",
    "df = spark.read.csv(\"data/jugadores.csv\", header=False, schema=schema)\n",
    "\n",
    "# Mostrar el contenido\n",
    "df.show()\n",
    "\n",
    "# Mostrar el esquema inferido\n",
    "df.printSchema()"
   ]
  },
  {
   "cell_type": "markdown",
   "id": "b9ca8c7e",
   "metadata": {},
   "source": [
    "Finalmente, podemos cerrar la sesión de Spark cuando ya no la necesitemos. Si lo hacemos, habrá que ejecutar todo el notebook de nuevo para volver a crearla."
   ]
  },
  {
   "cell_type": "code",
   "execution_count": 4,
   "id": "5de5f437",
   "metadata": {},
   "outputs": [],
   "source": [
    "spark.stop()"
   ]
  }
 ],
 "metadata": {
  "kernelspec": {
   "display_name": "spark",
   "language": "python",
   "name": "python3"
  },
  "language_info": {
   "codemirror_mode": {
    "name": "ipython",
    "version": 3
   },
   "file_extension": ".py",
   "mimetype": "text/x-python",
   "name": "python",
   "nbconvert_exporter": "python",
   "pygments_lexer": "ipython3",
   "version": "3.10.12"
  }
 },
 "nbformat": 4,
 "nbformat_minor": 5
}
