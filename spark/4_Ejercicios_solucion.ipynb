{
  "cells": [
    {
      "cell_type": "markdown",
      "metadata": {
        "id": "gFQKdW0nszb8"
      },
      "source": [
        "# ⚽ Análisis de Estadísticas de Partidos de Fútbol con PySpark"
      ]
    },
    {
      "cell_type": "markdown",
      "metadata": {
        "id": "wIgMeL-OszcB"
      },
      "source": [
        "Este notebook aplica técnicas de PySpark (DataFrames, Agregaciones, UDFs y Funciones de Ventana) para el análisis de datos de fútbol."
      ]
    },
    {
      "cell_type": "code",
      "execution_count": 5,
      "metadata": {
        "colab": {
          "base_uri": "https://localhost:8080/"
        },
        "id": "AL76lBSfszcC",
        "outputId": "2eae20ce-7fdc-4f38-b1ca-120662bc9937"
      },
      "outputs": [
        {
          "output_type": "stream",
          "name": "stdout",
          "text": [
            "Drive already mounted at /content/drive; to attempt to forcibly remount, call drive.mount(\"/content/drive\", force_remount=True).\n"
          ]
        }
      ],
      "source": [
        "import os\n",
        "import pyspark\n",
        "from pyspark.sql import SparkSession\n",
        "from pyspark.sql.types import *\n",
        "from pyspark.sql.functions import *\n",
        "from pyspark.sql import Window\n",
        "from math import radians, cos, sin, asin, sqrt\n",
        "\n",
        "# --- REEMPLAZO IMPORTANTE: Montar Google Drive ---\n",
        "# Ejecuta esto si tus archivos están en Drive. Reemplaza 'path_to_data' por la ruta real si usas el método de enlace simbólico.\n",
        "from google.colab import drive\n",
        "drive.mount('/content/drive')\n",
        "\n",
        "# Definir la carpeta base donde se encuentran los CSVs (AJUSTAR SEGÚN TU RUTA DE DRIVE)\n",
        "# Ejemplo: Si los datos están en 'Mi Drive/Colab Notebooks/data/soccer-data/'\n",
        "DATA_BASE_PATH = '/content/drive/MyDrive/Colab Notebooks/soccer-data/'\n",
        "\n",
        "# Creación de la sesión de Spark\n",
        "spark = (SparkSession.builder\n",
        "    .appName(\"Soccer Analytics\")\n",
        "    .getOrCreate())"
      ]
    },
    {
      "cell_type": "markdown",
      "metadata": {
        "id": "ADOeE3NJszcE"
      },
      "source": [
        "---"
      ]
    },
    {
      "cell_type": "markdown",
      "metadata": {
        "id": "ri4K0KPmszcE"
      },
      "source": [
        "## 🏆 Dataset 1: Resultados de Partidos (`results.csv`)\n",
        "\n",
        "### Carga y Exploración Inicial"
      ]
    },
    {
      "cell_type": "code",
      "execution_count": 6,
      "metadata": {
        "colab": {
          "base_uri": "https://localhost:8080/"
        },
        "id": "q3nD78DLszcE",
        "outputId": "205ef893-efb4-497e-90c9-74d68e7e5767"
      },
      "outputs": [
        {
          "output_type": "stream",
          "name": "stdout",
          "text": [
            "root\n",
            " |-- date: date (nullable = true)\n",
            " |-- home_team: string (nullable = true)\n",
            " |-- away_team: string (nullable = true)\n",
            " |-- home_score: integer (nullable = true)\n",
            " |-- away_score: integer (nullable = true)\n",
            " |-- tournament: string (nullable = true)\n",
            " |-- city: string (nullable = true)\n",
            " |-- country: string (nullable = true)\n",
            " |-- neutral: string (nullable = true)\n",
            "\n",
            "+----------+--------------+------------------+----------+----------+----------+------------+---------+-------+\n",
            "|      date|     home_team|         away_team|home_score|away_score|tournament|        city|  country|neutral|\n",
            "+----------+--------------+------------------+----------+----------+----------+------------+---------+-------+\n",
            "|2023-10-01|  FC Barcelona|   Athletic Bilbao|         2|         0|  League A|   Barcelona|    Spain|  FALSE|\n",
            "|2023-10-01|   Real Madrid|   Atletico Madrid|         1|         2|  League A|      Madrid|    Spain|  FALSE|\n",
            "|2023-10-02|  Boca Juniors|       River Plate|         1|         1|     Cup B|Buenos Aires|Argentina|  FALSE|\n",
            "|2023-10-02|Manchester Utd|         Liverpool|         3|         1|  League A|  Manchester|  England|  FALSE|\n",
            "|2023-10-03|      Paris SG|Olympique Lyonnais|         2|         1|  League A|       Paris|   France|  FALSE|\n",
            "+----------+--------------+------------------+----------+----------+----------+------------+---------+-------+\n",
            "\n",
            "Número total de partidos: 5\n"
          ]
        }
      ],
      "source": [
        "# Definición del esquema para resultados de partidos (para evitar inferencia lenta/errónea)\n",
        "resultsSchema = StructType([\n",
        "    StructField(\"date\", DateType(), False),\n",
        "    StructField(\"home_team\", StringType(), False),\n",
        "    StructField(\"away_team\", StringType(), False),\n",
        "    StructField(\"home_score\", IntegerType(), False),\n",
        "    StructField(\"away_score\", IntegerType(), False),\n",
        "    StructField(\"tournament\", StringType(), False),\n",
        "    StructField(\"city\", StringType(), False),\n",
        "    StructField(\"country\", StringType(), False),\n",
        "    StructField(\"neutral\", StringType(), False)\n",
        "])\n",
        "\n",
        "# Carga del DataFrame de Resultados\n",
        "results_df = (spark.read.option(\"header\", \"true\")\n",
        "              .option(\"dateFormat\", \"yyyy-MM-dd\")\n",
        "              .csv(DATA_BASE_PATH + \"results.csv\", schema=resultsSchema)\n",
        "             )\n",
        "\n",
        "results_df.printSchema()\n",
        "results_df.show(5)\n",
        "print(f\"Número total de partidos: {results_df.count()}\")"
      ]
    },
    {
      "cell_type": "markdown",
      "metadata": {
        "id": "ZFM9o00lszcF"
      },
      "source": [
        "### Ejercicio 1: Resumen por Torneo\n",
        "\n",
        "Calcule para cada **Torneo** la fecha del primer partido (`start_date`), la fecha del último partido (`last_date`) y el **número total de goles** marcados (`total_goals`) en dicho torneo."
      ]
    },
    {
      "cell_type": "code",
      "execution_count": 7,
      "metadata": {
        "colab": {
          "base_uri": "https://localhost:8080/"
        },
        "id": "gR7vq_fwszcF",
        "outputId": "2b46205f-b835-428f-ef81-638a307c7038"
      },
      "outputs": [
        {
          "output_type": "stream",
          "name": "stdout",
          "text": [
            "+----------+----------+----------+-----------+\n",
            "|tournament|start_date|last_date |total_goals|\n",
            "+----------+----------+----------+-----------+\n",
            "|League A  |2023-10-01|2023-10-03|12         |\n",
            "|Cup B     |2023-10-02|2023-10-02|2          |\n",
            "+----------+----------+----------+-----------+\n",
            "\n"
          ]
        }
      ],
      "source": [
        "tournament_summary = (\n",
        "    results_df\n",
        "    .withColumn(\"total_match_goals\", col(\"home_score\") + col(\"away_score\"))\n",
        "    .groupBy(\"tournament\")\n",
        "    .agg(\n",
        "        min(\"date\").alias(\"start_date\"),\n",
        "        max(\"date\").alias(\"last_date\"),\n",
        "        sum(\"total_match_goals\").alias(\"total_goals\")\n",
        "    )\n",
        ")\n",
        "\n",
        "(tournament_summary\n",
        " .orderBy(col(\"total_goals\").desc())\n",
        " .show(5, truncate=False)\n",
        ")"
      ]
    },
    {
      "cell_type": "markdown",
      "metadata": {
        "id": "1t5_xE_VszcF"
      },
      "source": [
        "---"
      ]
    },
    {
      "cell_type": "markdown",
      "metadata": {
        "id": "O8JFyJvvszcF"
      },
      "source": [
        "## 🥅 Dataset 2: Goleadores por Partido (`goalscorers.csv`)\n",
        "\n",
        "### Carga y Exploración Inicial"
      ]
    },
    {
      "cell_type": "code",
      "execution_count": 8,
      "metadata": {
        "colab": {
          "base_uri": "https://localhost:8080/"
        },
        "id": "aDXPUJSYszcF",
        "outputId": "52e2329b-a86e-4fb4-91ac-6e1f4a5542f5"
      },
      "outputs": [
        {
          "output_type": "stream",
          "name": "stdout",
          "text": [
            "root\n",
            " |-- date: date (nullable = true)\n",
            " |-- home_team: string (nullable = true)\n",
            " |-- away_team: string (nullable = true)\n",
            " |-- team: string (nullable = true)\n",
            " |-- scorer: string (nullable = true)\n",
            " |-- minute: integer (nullable = true)\n",
            " |-- own_goal: string (nullable = true)\n",
            " |-- penalty: string (nullable = true)\n",
            "\n",
            "+----------+--------------+---------------+---------------+--------------+------+--------+-------+\n",
            "|date      |home_team     |away_team      |team           |scorer        |minute|own_goal|penalty|\n",
            "+----------+--------------+---------------+---------------+--------------+------+--------+-------+\n",
            "|2023-10-01|FC Barcelona  |Athletic Bilbao|FC Barcelona   |Lewandowski R.|20    |NULL    |NULL   |\n",
            "|2023-10-01|Real Madrid   |Atletico Madrid|Atletico Madrid|Griezmann A.  |80    |NULL    |NULL   |\n",
            "|2023-10-02|Boca Juniors  |River Plate    |Boca Juniors   |Cavani E.     |50    |NULL    |NULL   |\n",
            "|2023-10-02|Manchester Utd|Liverpool      |Manchester Utd |Rashford M.   |45    |NULL    |NULL   |\n",
            "|2023-10-02|Manchester Utd|Liverpool      |Manchester Utd |Fernandes B.  |90    |NULL    |NULL   |\n",
            "+----------+--------------+---------------+---------------+--------------+------+--------+-------+\n",
            "only showing top 5 rows\n",
            "\n",
            "Número total de goles registrados: 6\n"
          ]
        }
      ],
      "source": [
        "# Definición del esquema para goleadores\n",
        "scorersSchema = StructType([\n",
        "    StructField(\"date\", DateType(), False),\n",
        "    StructField(\"home_team\", StringType(), False),\n",
        "    StructField(\"away_team\", StringType(), False),\n",
        "    StructField(\"team\", StringType(), False),\n",
        "    StructField(\"scorer\", StringType(), False),\n",
        "    StructField(\"minute\", IntegerType(), True),\n",
        "    StructField(\"own_goal\", StringType(), True),\n",
        "    StructField(\"penalty\", StringType(), True)\n",
        "])\n",
        "\n",
        "# Carga del DataFrame de Goleadores\n",
        "scorers_df = (spark.read.option(\"header\", \"true\")\n",
        "              .option(\"dateFormat\", \"yyyy-MM-dd\")\n",
        "              .csv(DATA_BASE_PATH + \"goalscorers.csv\", schema=scorersSchema)\n",
        "             )\n",
        "\n",
        "scorers_df.printSchema()\n",
        "scorers_df.show(5, truncate=False)\n",
        "print(f\"Número total de goles registrados: {scorers_df.count()}\")"
      ]
    },
    {
      "cell_type": "markdown",
      "metadata": {
        "id": "PAcoPBnyszcG"
      },
      "source": [
        "### Ejercicio 2: Ranking de Goleadores (Agregación)\n",
        "\n",
        "Calcule el **número total de goles** y la **media de minuto** en el que marca el gol para cada jugador (`scorer`). Muestre el ranking de los 5 mejores goleadores."
      ]
    },
    {
      "cell_type": "code",
      "execution_count": 9,
      "metadata": {
        "colab": {
          "base_uri": "https://localhost:8080/"
        },
        "id": "0KsYD2QqszcG",
        "outputId": "92ea940a-15b1-461f-8f6f-290f682c61f5"
      },
      "outputs": [
        {
          "output_type": "stream",
          "name": "stdout",
          "text": [
            "+--------------+-----------+------------------+\n",
            "|        scorer|total_goals|avg_minute_of_goal|\n",
            "+--------------+-----------+------------------+\n",
            "|     Cavani E.|          1|              50.0|\n",
            "|     Mbappe K.|          1|              85.0|\n",
            "|Lewandowski R.|          1|              20.0|\n",
            "|  Fernandes B.|          1|              90.0|\n",
            "|  Griezmann A.|          1|              80.0|\n",
            "+--------------+-----------+------------------+\n",
            "only showing top 5 rows\n",
            "\n"
          ]
        }
      ],
      "source": [
        "scorer_ranking = (\n",
        "    scorers_df\n",
        "    .filter(col(\"own_goal\").isNull()) # Excluimos goles en propia puerta\n",
        "    .groupBy(\"scorer\")\n",
        "    .agg(\n",
        "        count(\"scorer\").alias(\"total_goals\"),\n",
        "        round(avg(\"minute\"), 2).alias(\"avg_minute_of_goal\")\n",
        "    )\n",
        ")\n",
        "\n",
        "(scorer_ranking\n",
        " .orderBy(col(\"total_goals\").desc())\n",
        " .show(5)\n",
        ")"
      ]
    },
    {
      "cell_type": "markdown",
      "metadata": {
        "id": "AQpKxNAKszcG"
      },
      "source": [
        "---"
      ]
    },
    {
      "cell_type": "markdown",
      "metadata": {
        "id": "s2Y2CLmtszcG"
      },
      "source": [
        "### Ejercicio 3: Cálculo de Valor de Gol con UDF\n",
        "\n",
        "Cree una función de usuario (UDF) llamada `goal_value` que asigne un **valor** a cada gol en función del minuto:\n",
        "\n",
        "- Gol en el minuto 90 o posterior: **Valor 3** (Gol tardío/decisivo)\n",
        "- Gol entre el minuto 76 y 89: **Valor 2**\n",
        "- Gol antes del minuto 76: **Valor 1**\n",
        "\n",
        "Calcule el valor total de los goles para cada jugador."
      ]
    },
    {
      "cell_type": "code",
      "execution_count": 10,
      "metadata": {
        "colab": {
          "base_uri": "https://localhost:8080/"
        },
        "id": "LpmdxvexszcG",
        "outputId": "87c8a7f1-5187-4aa5-c25e-498b32bfb9e3"
      },
      "outputs": [
        {
          "output_type": "stream",
          "name": "stdout",
          "text": [
            "+--------------+----------------+-----------+\n",
            "|        scorer|total_goal_value|total_goals|\n",
            "+--------------+----------------+-----------+\n",
            "|  Fernandes B.|               3|          1|\n",
            "|     Mbappe K.|               2|          1|\n",
            "|  Griezmann A.|               2|          1|\n",
            "|     Cavani E.|               1|          1|\n",
            "|Lewandowski R.|               1|          1|\n",
            "+--------------+----------------+-----------+\n",
            "only showing top 5 rows\n",
            "\n"
          ]
        }
      ],
      "source": [
        "# 1. Definición de la función Python\n",
        "def goal_value_function(minute):\n",
        "    if minute is None:\n",
        "        return 0\n",
        "    elif minute >= 90:\n",
        "        return 3\n",
        "    elif minute >= 76:\n",
        "        return 2\n",
        "    else:\n",
        "        return 1\n",
        "\n",
        "# 2. Conversión a UDF de Spark\n",
        "goal_value_udf = udf(goal_value_function, IntegerType())\n",
        "\n",
        "# 3. Aplicación y Agregación\n",
        "scorer_value = (\n",
        "    scorers_df\n",
        "    .filter(col(\"own_goal\").isNull())\n",
        "    .withColumn(\"goal_value\", goal_value_udf(col(\"minute\")))\n",
        "    .groupBy(\"scorer\")\n",
        "    .agg(\n",
        "        sum(\"goal_value\").alias(\"total_goal_value\"),\n",
        "        count(\"scorer\").alias(\"total_goals\")\n",
        "    )\n",
        ")\n",
        "\n",
        "(scorer_value\n",
        " .orderBy(col(\"total_goal_value\").desc())\n",
        " .show(5)\n",
        ")"
      ]
    },
    {
      "cell_type": "markdown",
      "metadata": {
        "id": "X_bLCpsHszcH"
      },
      "source": [
        "---"
      ]
    },
    {
      "cell_type": "markdown",
      "metadata": {
        "id": "6e60zsF7szcH"
      },
      "source": [
        "### Ejercicio 4: Goles Acumulados por Equipo (Funciones de Ventana)\n",
        "\n",
        "Utilizando las **Funciones de Ventana** (`Window`), calcule el **número acumulado de goles** para cada equipo (`team`), ordenados por la fecha (`date`) y el minuto (`minute`) del gol. Esto simula el *running total* de la evolución goleadora."
      ]
    },
    {
      "cell_type": "code",
      "execution_count": 12,
      "metadata": {
        "colab": {
          "base_uri": "https://localhost:8080/"
        },
        "id": "errALBZ1szcH",
        "outputId": "6f8c0d70-2329-4541-89ee-3bd85d5fe7b0"
      },
      "outputs": [
        {
          "output_type": "stream",
          "name": "stdout",
          "text": [
            "+----------+--------------+------------+------+----------------+\n",
            "|      date|          team|      scorer|minute|cumulative_goals|\n",
            "+----------+--------------+------------+------+----------------+\n",
            "|2023-10-02|Manchester Utd| Rashford M.|    45|               1|\n",
            "|2023-10-02|Manchester Utd|Fernandes B.|    90|               2|\n",
            "+----------+--------------+------------+------+----------------+\n",
            "\n"
          ]
        }
      ],
      "source": [
        "# Creamos un identificador único para la secuencia de goles (monotonically_increasing_id)\n",
        "goals_with_id = scorers_df.withColumn(\"goal_sequence_id\", monotonically_increasing_id())\n",
        "\n",
        "# 1. Definición de la Ventana:\n",
        "#    - Partición: por equipo ('team').\n",
        "#    - Orden: por fecha ('date') y luego por el ID de secuencia para un orden determinista.\n",
        "window_spec = Window.partitionBy('team').orderBy('date', 'goal_sequence_id')\n",
        "\n",
        "# 2. Cálculo de la Suma Acumulada\n",
        "acc_goals = (\n",
        "    goals_with_id\n",
        "    .filter(col(\"own_goal\").isNull())\n",
        "    .select(\n",
        "        'date',\n",
        "        'team',\n",
        "        'scorer',\n",
        "        'minute',\n",
        "        # Calcula la suma acumulada de goles (contamos 1 por cada fila)\n",
        "        sum(lit(1)).over(window_spec).alias('cumulative_goals')\n",
        "    )\n",
        ")\n",
        "\n",
        "# 3. Muestra de los resultados (solo para el equipo de Argentina como ejemplo)\n",
        "(acc_goals\n",
        " .filter(col(\"team\") == \"Manchester Utd\")\n",
        " .orderBy(\"date\", \"minute\")\n",
        " .show(10)\n",
        ")"
      ]
    }
  ],
  "metadata": {
    "kernelspec": {
      "display_name": "Python 3",
      "language": "python",
      "name": "python3"
    },
    "language_info": {
      "codemirror_mode": {
        "name": "ipython",
        "version": 3
      },
      "file_extension": ".py",
      "mimetype": "text/x-python",
      "name": "python",
      "nbconvert_exporter": "python",
      "pygments_lexer": "ipython3",
      "version": "3.10.12"
    },
    "colab": {
      "provenance": []
    }
  },
  "nbformat": 4,
  "nbformat_minor": 0
}